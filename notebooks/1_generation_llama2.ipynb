{
 "cells": [
  {
   "cell_type": "markdown",
   "metadata": {},
   "source": [
    "# Generation\n",
    "\n",
    "To build a chatbot app, we need a set of questions and answers. This is helpful for evaluating different prompt engineering techniques and different app design choices.\n",
    "\n",
    "In this notebook we dive deeper on prompting the model by passing a better context by:\n",
    "* using available data of W&B user questions \n",
    "* using the documentation files to generate better answers"
   ]
  },
  {
   "cell_type": "code",
   "execution_count": 1,
   "metadata": {},
   "outputs": [],
   "source": [
    "import os\n",
    "import random\n",
    "\n",
    "from pathlib import Path\n",
    "from pprint import pprint\n",
    "from getpass import getpass\n",
    "\n",
    "from rich.markdown import Markdown\n",
    "import pandas as pd\n",
    "\n",
    "from tqdm import tqdm\n",
    "\n",
    "from tenacity import (\n",
    "    retry,\n",
    "    stop_after_attempt,\n",
    "    wait_random_exponential, # for exponential backoff\n",
    ")  \n",
    "\n",
    "import torch\n",
    "import transformers\n",
    "import wandb\n",
    "from wandb.integration.huggingface import autolog\n"
   ]
  },
  {
   "cell_type": "markdown",
   "metadata": {},
   "source": [
    "# Set Llama2 API key \n",
    "\n",
    "To get key, go to your Hugging Face account and copy the key from your Access Tokens."
   ]
  },
  {
   "cell_type": "code",
   "execution_count": 2,
   "metadata": {},
   "outputs": [
    {
     "name": "stdout",
     "output_type": "stream",
     "text": [
      "Please enter password in the VS Code prompt at the top of your VS Code window!\n",
      "Llama2 API key configured\n"
     ]
    }
   ],
   "source": [
    "# Set LLAMA2 API key environment variable\n",
    "if os.getenv(\"LLAMA2_API_KEY\") is None:\n",
    "  if any(['VSCODE' in x for x in os.environ.keys()]):\n",
    "    print('Please enter password in the VS Code prompt at the top of your VS Code window!')\n",
    "  os.environ[\"LLAMA2_API_KEY\"] = getpass(\"Paste your LLAM2 key from your huggingface settings \\n\")\n",
    "\n",
    "assert os.getenv(\"LLAMA2_API_KEY\", \"\").startswith(\"hf_\"), \"This doesn't look like a valid HuggingFace llama2 key\"\n",
    "print(\"Llama2 API key configured\")\n",
    "\n",
    "# Get the HF auth token\n",
    "hf_auth = os.getenv(\"LLAMA2_API_KEY\", \"\")"
   ]
  },
  {
   "cell_type": "markdown",
   "metadata": {},
   "source": [
    "# Start W&B logging\n",
    "\n",
    "autolog - convenient function for logging results to W&B"
   ]
  },
  {
   "cell_type": "code",
   "execution_count": 3,
   "metadata": {},
   "outputs": [
    {
     "name": "stderr",
     "output_type": "stream",
     "text": [
      "Failed to detect the name of this notebook, you can set it manually with the WANDB_NOTEBOOK_NAME environment variable to enable code saving.\n",
      "\u001b[34m\u001b[1mwandb\u001b[0m: Currently logged in as: \u001b[33md-oliver-cort\u001b[0m (\u001b[33mdoc93\u001b[0m). Use \u001b[1m`wandb login --relogin`\u001b[0m to force relogin\n"
     ]
    },
    {
     "data": {
      "text/html": [
       "Tracking run with wandb version 0.15.8"
      ],
      "text/plain": [
       "<IPython.core.display.HTML object>"
      ]
     },
     "metadata": {},
     "output_type": "display_data"
    },
    {
     "data": {
      "text/html": [
       "Run data is saved locally in <code>/home/dolivercortadellas/Training/LLM-powered-apps/notebooks/wandb/run-20230826_205936-0syik39o</code>"
      ],
      "text/plain": [
       "<IPython.core.display.HTML object>"
      ]
     },
     "metadata": {},
     "output_type": "display_data"
    },
    {
     "data": {
      "text/html": [
       "Syncing run <strong><a href='https://wandb.ai/doc93/llmapps/runs/0syik39o' target=\"_blank\">chocolate-music-11</a></strong> to <a href='https://wandb.ai/doc93/llmapps' target=\"_blank\">Weights & Biases</a> (<a href='https://wandb.me/run' target=\"_blank\">docs</a>)<br/>"
      ],
      "text/plain": [
       "<IPython.core.display.HTML object>"
      ]
     },
     "metadata": {},
     "output_type": "display_data"
    },
    {
     "data": {
      "text/html": [
       " View project at <a href='https://wandb.ai/doc93/llmapps' target=\"_blank\">https://wandb.ai/doc93/llmapps</a>"
      ],
      "text/plain": [
       "<IPython.core.display.HTML object>"
      ]
     },
     "metadata": {},
     "output_type": "display_data"
    },
    {
     "data": {
      "text/html": [
       " View run at <a href='https://wandb.ai/doc93/llmapps/runs/0syik39o' target=\"_blank\">https://wandb.ai/doc93/llmapps/runs/0syik39o</a>"
      ],
      "text/plain": [
       "<IPython.core.display.HTML object>"
      ]
     },
     "metadata": {},
     "output_type": "display_data"
    }
   ],
   "source": [
    "autolog({\"project\":\"llmapps\", \"job_type\": \"generation\"})"
   ]
  },
  {
   "cell_type": "markdown",
   "metadata": {},
   "source": [
    "# Generating synthetic support questions"
   ]
  },
  {
   "cell_type": "code",
   "execution_count": 3,
   "metadata": {},
   "outputs": [],
   "source": [
    "# Define llama2 model to load\n",
    "model_id = 'meta-llama/Llama-2-7b-chat-hf'"
   ]
  },
  {
   "cell_type": "code",
   "execution_count": 4,
   "metadata": {},
   "outputs": [
    {
     "name": "stderr",
     "output_type": "stream",
     "text": [
      "/home/dolivercortadellas/Training/LLM-powered-apps/venv_llm/lib/python3.8/site-packages/transformers/tokenization_utils_base.py:1714: FutureWarning: The `use_auth_token` argument is deprecated and will be removed in v5 of Transformers.\n",
      "  warnings.warn(\n"
     ]
    }
   ],
   "source": [
    "tokenizer = transformers.AutoTokenizer.from_pretrained(\n",
    "    model_id,\n",
    "    use_auth_token=hf_auth\n",
    "    )"
   ]
  },
  {
   "cell_type": "code",
   "execution_count": 6,
   "metadata": {},
   "outputs": [
    {
     "data": {
      "application/vnd.jupyter.widget-view+json": {
       "model_id": "7b616b7346304eb394780cfa560ac664",
       "version_major": 2,
       "version_minor": 0
      },
      "text/plain": [
       "Loading checkpoint shards:   0%|          | 0/2 [00:00<?, ?it/s]"
      ]
     },
     "metadata": {},
     "output_type": "display_data"
    },
    {
     "data": {
      "text/plain": [
       "LlamaForCausalLM(\n",
       "  (model): LlamaModel(\n",
       "    (embed_tokens): Embedding(32000, 4096, padding_idx=0)\n",
       "    (layers): ModuleList(\n",
       "      (0-31): 32 x LlamaDecoderLayer(\n",
       "        (self_attn): LlamaAttention(\n",
       "          (q_proj): Linear4bit(in_features=4096, out_features=4096, bias=False)\n",
       "          (k_proj): Linear4bit(in_features=4096, out_features=4096, bias=False)\n",
       "          (v_proj): Linear4bit(in_features=4096, out_features=4096, bias=False)\n",
       "          (o_proj): Linear4bit(in_features=4096, out_features=4096, bias=False)\n",
       "          (rotary_emb): LlamaRotaryEmbedding()\n",
       "        )\n",
       "        (mlp): LlamaMLP(\n",
       "          (gate_proj): Linear4bit(in_features=4096, out_features=11008, bias=False)\n",
       "          (up_proj): Linear4bit(in_features=4096, out_features=11008, bias=False)\n",
       "          (down_proj): Linear4bit(in_features=11008, out_features=4096, bias=False)\n",
       "          (act_fn): SiLUActivation()\n",
       "        )\n",
       "        (input_layernorm): LlamaRMSNorm()\n",
       "        (post_attention_layernorm): LlamaRMSNorm()\n",
       "      )\n",
       "    )\n",
       "    (norm): LlamaRMSNorm()\n",
       "  )\n",
       "  (lm_head): Linear(in_features=4096, out_features=32000, bias=False)\n",
       ")"
      ]
     },
     "execution_count": 6,
     "metadata": {},
     "output_type": "execute_result"
    }
   ],
   "source": [
    "# Set quantization configuration to load large model with less GPU memory\n",
    "# - this requires the `bitsandbytes` library\n",
    "bnb_config = transformers.BitsAndBytesConfig(\n",
    "    load_in_4bit=True,\n",
    "    bnb_4bit_quant_type='nf4',\n",
    "    bnb_4bit_use_double_quant=True,\n",
    "    bnb_4bit_compute_dtype=torch.bfloat16\n",
    ")\n",
    "\n",
    "# This configuration object uses the model configuration from Hugging Face \n",
    "# to set different model parameters\n",
    "model_config = transformers.AutoConfig.from_pretrained(\n",
    "    model_id,\n",
    "    use_auth_token=hf_auth\n",
    ")\n",
    "\n",
    "# Download and initialize the model \n",
    "model = transformers.AutoModelForCausalLM.from_pretrained(\n",
    "    model_id,\n",
    "    trust_remote_code=True,\n",
    "    config=model_config,\n",
    "    quantization_config=bnb_config,\n",
    "    device_map='auto',\n",
    "    use_auth_token=hf_auth\n",
    ")\n",
    "model.eval()"
   ]
  },
  {
   "cell_type": "code",
   "execution_count": 7,
   "metadata": {},
   "outputs": [],
   "source": [
    "pipeline_generate_text = transformers.pipeline(\n",
    "    task='text-generation',\n",
    "    model=model,\n",
    "    tokenizer=tokenizer,\n",
    ")"
   ]
  },
  {
   "cell_type": "code",
   "execution_count": 8,
   "metadata": {},
   "outputs": [],
   "source": [
    "# completion_with_backoff \n",
    "# - this decorator will make API request wait if it hits a rate limiting error\n",
    "@retry(wait=wait_random_exponential(min=1, max=60), stop=stop_after_attempt(6))\n",
    "def completion_with_backoff(message, **kwargs):\n",
    "    return pipeline_generate_text(message, **kwargs)"
   ]
  },
  {
   "cell_type": "markdown",
   "metadata": {},
   "source": [
    "## Zero Shot prompting\n",
    "\n",
    "Not giving any examples or context"
   ]
  },
  {
   "cell_type": "code",
   "execution_count": 9,
   "metadata": {},
   "outputs": [],
   "source": [
    "# special tokens used by llama 2 chat\n",
    "B_INST = \"[INST] \"\n",
    "E_INST = \"[/INST]\"\n",
    "B_SYS  = \"<<SYS>>\\n\"\n",
    "E_SYS  = \"\\n<</SYS>>\\n\\n\"\n",
    "\n",
    "\n",
    "# Define the behaviour, qualities of the LLM\n",
    "system_prompt = \"\"\"You are a helpful assistant.\"\"\"\n",
    "# Define what we ask the LLM to do\n",
    "user_message = \"\"\"Generate a support question from a W&B user\"\"\"\n",
    "\n",
    "# create the system message\n",
    "system_prompt = f\"<s>{B_INST}{B_SYS}{system_prompt}{E_SYS}\"\n",
    "# Create user message\n",
    "user_prompt = f\"{user_message}{E_INST}\""
   ]
  },
  {
   "cell_type": "code",
   "execution_count": 10,
   "metadata": {},
   "outputs": [
    {
     "data": {
      "text/html": [
       "<pre style=\"white-space:pre;overflow-x:auto;line-height:normal;font-family:Menlo,'DejaVu Sans Mono',consolas,'Courier New',monospace\">Sure! Here's a sample support question from a hypothetical W&amp;B user:                                               \n",
       "\n",
       "\"I'm having trouble with my Work &amp; Budget spreadsheet. Every time I try to update the budget amounts for my        \n",
       "different categories                                                                                               \n",
       "</pre>\n"
      ],
      "text/plain": [
       "Sure! Here's a sample support question from a hypothetical W&B user:                                               \n",
       "\n",
       "\"I'm having trouble with my Work & Budget spreadsheet. Every time I try to update the budget amounts for my        \n",
       "different categories                                                                                               \n"
      ]
     },
     "metadata": {},
     "output_type": "display_data"
    },
    {
     "data": {
      "text/html": [
       "<pre style=\"white-space:pre;overflow-x:auto;line-height:normal;font-family:Menlo,'DejaVu Sans Mono',consolas,'Courier New',monospace\">Sure! Here's a potential support question from a W&amp;B user:                                                         \n",
       "\n",
       "\"Hi there, I'm having trouble with the scheduling feature in Work &amp; Business. Whenever I try to schedule a meeting \n",
       "or event, I                                                                                                        \n",
       "</pre>\n"
      ],
      "text/plain": [
       "Sure! Here's a potential support question from a W&B user:                                                         \n",
       "\n",
       "\"Hi there, I'm having trouble with the scheduling feature in Work & Business. Whenever I try to schedule a meeting \n",
       "or event, I                                                                                                        \n"
      ]
     },
     "metadata": {},
     "output_type": "display_data"
    },
    {
     "data": {
      "text/html": [
       "<pre style=\"white-space:pre;overflow-x:auto;line-height:normal;font-family:Menlo,'DejaVu Sans Mono',consolas,'Courier New',monospace\">Of course, I'm here to help! Here is a support question that a Wibiya &amp; Brain (W&amp;B) user might ask:                \n",
       "\n",
       "\"Hi there, I've been using W&amp;B for a                                                                               \n",
       "</pre>\n"
      ],
      "text/plain": [
       "Of course, I'm here to help! Here is a support question that a Wibiya & Brain (W&B) user might ask:                \n",
       "\n",
       "\"Hi there, I've been using W&B for a                                                                               \n"
      ]
     },
     "metadata": {},
     "output_type": "display_data"
    },
    {
     "data": {
      "text/html": [
       "<pre style=\"white-space:pre;overflow-x:auto;line-height:normal;font-family:Menlo,'DejaVu Sans Mono',consolas,'Courier New',monospace\">Of course! Here's a potential support question from a User &amp; Business (W&amp;B) user:                                  \n",
       "\n",
       "Title: Urgent Help Required - Can't Access W&amp;B Account                                                             \n",
       "\n",
       "Dear Support Team,                                                                                                 \n",
       "</pre>\n"
      ],
      "text/plain": [
       "Of course! Here's a potential support question from a User & Business (W&B) user:                                  \n",
       "\n",
       "Title: Urgent Help Required - Can't Access W&B Account                                                             \n",
       "\n",
       "Dear Support Team,                                                                                                 \n"
      ]
     },
     "metadata": {},
     "output_type": "display_data"
    },
    {
     "data": {
      "text/html": [
       "<pre style=\"white-space:pre;overflow-x:auto;line-height:normal;font-family:Menlo,'DejaVu Sans Mono',consolas,'Courier New',monospace\">Sure, here's a potential support question from a W&amp;B user: \"Hi there! I'm having trouble using Workflow Builder to \n",
       "create a workflow for my team. Every time I try to save the workflow, I                                            \n",
       "</pre>\n"
      ],
      "text/plain": [
       "Sure, here's a potential support question from a W&B user: \"Hi there! I'm having trouble using Workflow Builder to \n",
       "create a workflow for my team. Every time I try to save the workflow, I                                            \n"
      ]
     },
     "metadata": {},
     "output_type": "display_data"
    }
   ],
   "source": [
    "def generate_and_print(system_prompt, user_prompt, n=5):\n",
    "    message = system_prompt + user_prompt\n",
    "\n",
    "    responses = completion_with_backoff(\n",
    "        message,\n",
    "        do_sample=True,           # Whether or not to use sampling \n",
    "        repetition_penalty=1.1,   # without this output begins repeating\n",
    "        num_return_sequences = n,\n",
    "        max_new_tokens=50\n",
    "        )\n",
    "    # pprint(responses)\n",
    "    for response in responses:\n",
    "        response = response['generated_text']\n",
    "        generation = response[response.find('[/INST]')+len('[/INST]'):]\n",
    "        display(Markdown(generation))\n",
    "    \n",
    "responses = generate_and_print(system_prompt, user_prompt)"
   ]
  },
  {
   "cell_type": "markdown",
   "metadata": {},
   "source": [
    "The 5 generated responses above are quite generic. "
   ]
  },
  {
   "cell_type": "markdown",
   "metadata": {},
   "source": [
    "## Few Shot prompting \n",
    "\n",
    "Give the model several examples.\n",
    "* We read some user submitted questions (from Discord server) listed in the file `examples.txt`. \n",
    "* This file contains multiline questions separated by tabs (`\\t`)."
   ]
  },
  {
   "cell_type": "code",
   "execution_count": 21,
   "metadata": {},
   "outputs": [
    {
     "name": "stdout",
     "output_type": "stream",
     "text": [
      "'We have 228 real queries:'\n"
     ]
    },
    {
     "data": {
      "text/html": [
       "<pre style=\"white-space:pre;overflow-x:auto;line-height:normal;font-family:Menlo,'DejaVu Sans Mono',consolas,'Courier New',monospace\">Sample one: \"During the sweep, I want to obtain a box plot for each individual run. After a couple of runs (or at  \n",
       "the end of a sweep) i want to view all of the box plots in the same figure so i can compare between the            \n",
       "hyper-parameter. How can I do that?\"                                                                               \n",
       "</pre>\n"
      ],
      "text/plain": [
       "Sample one: \"During the sweep, I want to obtain a box plot for each individual run. After a couple of runs (or at  \n",
       "the end of a sweep) i want to view all of the box plots in the same figure so i can compare between the            \n",
       "hyper-parameter. How can I do that?\"                                                                               \n"
      ]
     },
     "execution_count": 21,
     "metadata": {},
     "output_type": "execute_result"
    }
   ],
   "source": [
    "delimiter = \"\\t\" # tab separated queries\n",
    "with open(\"../data/examples.txt\", \"r\") as file:\n",
    "    data = file.read()\n",
    "    real_queries = data.split(delimiter)\n",
    "\n",
    "pprint(f\"We have {len(real_queries)} real queries:\")  \n",
    "Markdown(f\"Sample one: \\n\\\"{random.choice(real_queries)}\\\"\")"
   ]
  },
  {
   "cell_type": "markdown",
   "metadata": {},
   "source": [
    "For a Few Shot prompt:\n",
    "* we can now add a few of those real user questions to the prompt, to guide our model to produce synthetic questions like those."
   ]
  },
  {
   "cell_type": "code",
   "execution_count": 14,
   "metadata": {},
   "outputs": [
    {
     "data": {
      "text/html": [
       "<pre style=\"white-space:pre;overflow-x:auto;line-height:normal;font-family:Menlo,'DejaVu Sans Mono',consolas,'Courier New',monospace\">Generate a support question from a W&amp;B user Below you will find a few examples of real user queries: can I make a  \n",
       "project publicly viewable? The integration with gradio works within a jupyter notebook but not with the same code  \n",
       "run as a python script. Why? how do I fix an error with wandb Table construction from pandas dataframe: TypeError: \n",
       "Data row contained incompatible types Let's start![/INST]                                                          \n",
       "</pre>\n"
      ],
      "text/plain": [
       "Generate a support question from a W&B user Below you will find a few examples of real user queries: can I make a  \n",
       "project publicly viewable? The integration with gradio works within a jupyter notebook but not with the same code  \n",
       "run as a python script. Why? how do I fix an error with wandb Table construction from pandas dataframe: TypeError: \n",
       "Data row contained incompatible types Let's start![/INST]                                                          \n"
      ]
     },
     "execution_count": 14,
     "metadata": {},
     "output_type": "execute_result"
    }
   ],
   "source": [
    "def generate_few_shot_prompt(queries, n=3):\n",
    "    prompt = \"Generate a support question from a W&B user\\n\" +\\\n",
    "        \"Below you will find a few examples of real user queries:\\n\"\n",
    "    for _ in range(n):\n",
    "        prompt += random.choice(queries) + \"\\n\"\n",
    "    prompt += \"Let's start!\"\n",
    "    return prompt\n",
    "\n",
    "generation_prompt = generate_few_shot_prompt(real_queries)\n",
    "# Get user prompt in llama2 format\n",
    "generation_prompt = f\"{generation_prompt}{E_INST}\"\n",
    "\n",
    "# Print the prompt to be fitted into the LLM\n",
    "Markdown(generation_prompt)"
   ]
  },
  {
   "cell_type": "code",
   "execution_count": 15,
   "metadata": {},
   "outputs": [
    {
     "name": "stdout",
     "output_type": "stream",
     "text": [
      "('<s>[INST] <<SYS>>\\n'\n",
      " 'You are a helpful assistant.\\n'\n",
      " '<</SYS>>\\n'\n",
      " '\\n'\n",
      " 'Generate a support question from a W&B user\\n'\n",
      " 'Below you will find a few examples of real user queries:\\n'\n",
      " 'can I make a project publicly viewable?\\n'\n",
      " 'The integration with gradio works within a jupyter notebook but not with the '\n",
      " 'same code run as a python script. Why?\\n'\n",
      " 'how do I fix an error with wandb Table construction from pandas dataframe: '\n",
      " 'TypeError: Data row contained incompatible types\\n'\n",
      " \"Let's start![/INST]\")\n"
     ]
    }
   ],
   "source": [
    "# Print prompt passed into LLM\n",
    "pprint(system_prompt + generation_prompt)"
   ]
  },
  {
   "cell_type": "markdown",
   "metadata": {},
   "source": [
    "Below we can see how the Llama2 LLM does when passing few examples (context) to the user prompt."
   ]
  },
  {
   "cell_type": "code",
   "execution_count": 15,
   "metadata": {},
   "outputs": [
    {
     "data": {
      "text/html": [
       "<pre style=\"white-space:pre;overflow-x:auto;line-height:normal;font-family:Menlo,'DejaVu Sans Mono',consolas,'Courier New',monospace\">Sure! Here's a potential support question from a W&amp;B user: \"Hi there! I'm having trouble generating a report in W&amp;B\n",
       "that shows the configuration of my project in a plain text file or something similar.                              \n",
       "</pre>\n"
      ],
      "text/plain": [
       "Sure! Here's a potential support question from a W&B user: \"Hi there! I'm having trouble generating a report in W&B\n",
       "that shows the configuration of my project in a plain text file or something similar.                              \n"
      ]
     },
     "metadata": {},
     "output_type": "display_data"
    },
    {
     "data": {
      "text/html": [
       "<pre style=\"white-space:pre;overflow-x:auto;line-height:normal;font-family:Menlo,'DejaVu Sans Mono',consolas,'Courier New',monospace\">Great! Here's a potential support question from a W&amp;B user: \"I'm trying to generate a report for my machine        \n",
       "learning model using the <span style=\"color: #008080; text-decoration-color: #008080; background-color: #000000; font-weight: bold\">wandb.init</span> function, but I need to include the model'                                     \n",
       "</pre>\n"
      ],
      "text/plain": [
       "Great! Here's a potential support question from a W&B user: \"I'm trying to generate a report for my machine        \n",
       "learning model using the \u001b[1;36;40mwandb.init\u001b[0m function, but I need to include the model'                                     \n"
      ]
     },
     "metadata": {},
     "output_type": "display_data"
    },
    {
     "data": {
      "text/html": [
       "<pre style=\"white-space:pre;overflow-x:auto;line-height:normal;font-family:Menlo,'DejaVu Sans Mono',consolas,'Courier New',monospace\">Sure! Here's a support question from a W&amp;B user: \"Hello! I'm trying to create a report in W&amp;B that shows the       \n",
       "configuration of my experiment in a plain text file format. Is this possible?                                      \n",
       "</pre>\n"
      ],
      "text/plain": [
       "Sure! Here's a support question from a W&B user: \"Hello! I'm trying to create a report in W&B that shows the       \n",
       "configuration of my experiment in a plain text file format. Is this possible?                                      \n"
      ]
     },
     "metadata": {},
     "output_type": "display_data"
    },
    {
     "data": {
      "text/html": [
       "<pre style=\"white-space:pre;overflow-x:auto;line-height:normal;font-family:Menlo,'DejaVu Sans Mono',consolas,'Courier New',monospace\">Great! Here's a potential support question for W&amp;B users: \"Hi there! I'm trying to generate a report for my W&amp;B    \n",
       "project, but I want to include the full configuration of my project as a plain                                     \n",
       "</pre>\n"
      ],
      "text/plain": [
       "Great! Here's a potential support question for W&B users: \"Hi there! I'm trying to generate a report for my W&B    \n",
       "project, but I want to include the full configuration of my project as a plain                                     \n"
      ]
     },
     "metadata": {},
     "output_type": "display_data"
    },
    {
     "data": {
      "text/html": [
       "<pre style=\"white-space:pre;overflow-x:auto;line-height:normal;font-family:Menlo,'DejaVu Sans Mono',consolas,'Courier New',monospace\">Great! Here is a support question from a W&amp;B user: \"Hi there! I'm trying to understand how to display the          \n",
       "configuration of my W&amp;B project in a plain text file or a similar format for inclusion in a                        \n",
       "</pre>\n"
      ],
      "text/plain": [
       "Great! Here is a support question from a W&B user: \"Hi there! I'm trying to understand how to display the          \n",
       "configuration of my W&B project in a plain text file or a similar format for inclusion in a                        \n"
      ]
     },
     "metadata": {},
     "output_type": "display_data"
    }
   ],
   "source": [
    "generate_and_print(system_prompt, user_prompt=generation_prompt)"
   ]
  },
  {
   "cell_type": "markdown",
   "metadata": {},
   "source": [
    "Questions produced by LLM, by passing some example questions, are a bit more diverse than with Zero Shot prompting, but we can go further (to increase range of questions produced by LLM).\n",
    "\n",
    "Something that we could add to the prompt to avoid words like \"Sure, ...\" could be: \"Just give me the question, don't give me extra text\""
   ]
  },
  {
   "cell_type": "markdown",
   "metadata": {},
   "source": [
    "## Add Context & Response\n",
    "\n",
    "We want to be able to respond questions that also have some documentation available. As long as we have the documentation for a specific user question, we should be able to answer that question.\n",
    "\n",
    "To evaluate the model, we want to make sure that whenever documentation is available, the answer is correct for that question.\n",
    "* So why not use documentation to also generate synthetic questions?\n",
    "\n",
    "To do this, the folder `../docs_sample` contains several examples of wandb docs. Dataset of questions will be limited to what is available in this docs."
   ]
  },
  {
   "cell_type": "code",
   "execution_count": 18,
   "metadata": {},
   "outputs": [],
   "source": [
    "# check if directory exists, if not, create it and download the files, e.g if running in colab\n",
    "if not os.path.exists(\"../docs_sample/\"):\n",
    "  !git clone https://github.com/wandb/edu.git\n",
    "  !cp -r edu/llm-apps-course/docs_sample ../"
   ]
  },
  {
   "cell_type": "code",
   "execution_count": 16,
   "metadata": {},
   "outputs": [
    {
     "data": {
      "text/plain": [
       "11"
      ]
     },
     "execution_count": 16,
     "metadata": {},
     "output_type": "execute_result"
    }
   ],
   "source": [
    "def find_md_files(directory):\n",
    "    \"Find all markdown files in a directory and return their content and path\"\n",
    "    md_files = []\n",
    "    for file in Path(directory).rglob(\"*.md\"):\n",
    "        with open(file, 'r', encoding='utf-8') as md_file:\n",
    "            content = md_file.read()\n",
    "        md_files.append((file.relative_to(directory), content))\n",
    "    return md_files\n",
    "\n",
    "documents = find_md_files('../docs_sample/')\n",
    "len(documents)"
   ]
  },
  {
   "cell_type": "markdown",
   "metadata": {},
   "source": [
    "Check that the documents are not too long for our context window (prompt), by computing the number of tokens in each document."
   ]
  },
  {
   "cell_type": "code",
   "execution_count": 17,
   "metadata": {},
   "outputs": [
    {
     "name": "stdout",
     "output_type": "stream",
     "text": [
      "[1172, 3173, 432, 672, 960, 1519, 3555, 2059, 3010, 2512, 5369]\n"
     ]
    }
   ],
   "source": [
    "tokens_per_document = [len(tokenizer.encode(document)) for _, document in documents]\n",
    "pprint(tokens_per_document)"
   ]
  },
  {
   "cell_type": "markdown",
   "metadata": {},
   "source": [
    "Some of the documents are too long (don't need that much text in our prompt). For thos documents, we'll extract a random chunk from them - to inspire the LLM to generate more questions."
   ]
  },
  {
   "cell_type": "code",
   "execution_count": 18,
   "metadata": {},
   "outputs": [],
   "source": [
    "# extract a random chunk from a document\n",
    "def extract_random_chunk(document, max_tokens=512):\n",
    "    tokens = tokenizer.encode(document)\n",
    "    if len(tokens) <= max_tokens:\n",
    "        return document\n",
    "    start = random.randint(0, len(tokens) - max_tokens)\n",
    "    end = start + max_tokens\n",
    "    return tokenizer.decode(tokens[start:end])"
   ]
  },
  {
   "cell_type": "markdown",
   "metadata": {},
   "source": [
    "Now, we use extracted chunk to create a question that can be answered by the document. This way we can generate questions that our current documentation is capable of answering."
   ]
  },
  {
   "cell_type": "code",
   "execution_count": 19,
   "metadata": {},
   "outputs": [],
   "source": [
    "def generate_context_prompt(chunk):\n",
    "    prompt = \"Generate a support question from a W&B user.\\n\" +\\\n",
    "        \"Start your answere with 'Question:'. Don't answer the generated question.\\n\" +\\\n",
    "        \"The question should be answerable by provided fragment of W&B documentation.\\n\" +\\\n",
    "        \"Don't mention the W&B documentation in your answer.\\n\" +\\\n",
    "        \"Below you will find a fragment of W&B documentation:\\n\" +\\\n",
    "        chunk + \"\\n\" +\\\n",
    "        \"Let's start!\"\n",
    "    return prompt\n",
    "\n",
    "chunk = extract_random_chunk(documents[0][1])\n",
    "generation_prompt = generate_context_prompt(chunk)\n",
    "# Follow llama2 prompt format\n",
    "generation_prompt = f\"{generation_prompt}{E_INST}\""
   ]
  },
  {
   "cell_type": "code",
   "execution_count": 50,
   "metadata": {},
   "outputs": [
    {
     "data": {
      "text/html": [
       "<pre style=\"white-space:pre;overflow-x:auto;line-height:normal;font-family:Menlo,'DejaVu Sans Mono',consolas,'Courier New',monospace\">Generate a support question from a W&amp;B user. Start your answere with 'Question:'. Don't answer the generated       \n",
       "question. The question should be answerable by provided fragment of W&amp;B documentation. Don't mention the W&amp;B       \n",
       "documentation in your answer. Below you will find a fragment of W&amp;B documentation: (tags=[\"tag1\", \"tag2\"])` .      \n",
       "\n",
       "You can also update the tags of a run during training (e.g. if a particular metrics crosses a pre-defined          \n",
       "threshold):                                                                                                        \n",
       "\n",
       "<span style=\"background-color: #272822\">                                                                                                                   \n",
       " </span><span style=\"color: #f8f8f2; text-decoration-color: #f8f8f2; background-color: #272822\">run </span><span style=\"color: #ff4689; text-decoration-color: #ff4689; background-color: #272822\">=</span><span style=\"color: #f8f8f2; text-decoration-color: #f8f8f2; background-color: #272822\"> wandb</span><span style=\"color: #ff4689; text-decoration-color: #ff4689; background-color: #272822\">.</span><span style=\"color: #f8f8f2; text-decoration-color: #f8f8f2; background-color: #272822\">init(entity</span><span style=\"color: #ff4689; text-decoration-color: #ff4689; background-color: #272822\">=</span><span style=\"color: #e6db74; text-decoration-color: #e6db74; background-color: #272822\">\"entity\"</span><span style=\"color: #f8f8f2; text-decoration-color: #f8f8f2; background-color: #272822\">, project</span><span style=\"color: #ff4689; text-decoration-color: #ff4689; background-color: #272822\">=</span><span style=\"color: #e6db74; text-decoration-color: #e6db74; background-color: #272822\">\"capsules\"</span><span style=\"color: #f8f8f2; text-decoration-color: #f8f8f2; background-color: #272822\">, tags</span><span style=\"color: #ff4689; text-decoration-color: #ff4689; background-color: #272822\">=</span><span style=\"color: #f8f8f2; text-decoration-color: #f8f8f2; background-color: #272822\">[</span><span style=\"color: #e6db74; text-decoration-color: #e6db74; background-color: #272822\">\"debug\"</span><span style=\"color: #f8f8f2; text-decoration-color: #f8f8f2; background-color: #272822\">])</span><span style=\"background-color: #272822\">                                             </span>\n",
       "<span style=\"background-color: #272822\">                                                                                                                   </span>\n",
       "<span style=\"background-color: #272822\"> </span><span style=\"color: #ff4689; text-decoration-color: #ff4689; background-color: #272822\">...</span><span style=\"background-color: #272822\">                                                                                                               </span>\n",
       "<span style=\"background-color: #272822\">                                                                                                                   </span>\n",
       "<span style=\"background-color: #272822\"> </span><span style=\"color: #66d9ef; text-decoration-color: #66d9ef; background-color: #272822\">if</span><span style=\"color: #f8f8f2; text-decoration-color: #f8f8f2; background-color: #272822\"> current_loss </span><span style=\"color: #ff4689; text-decoration-color: #ff4689; background-color: #272822\">&lt;</span><span style=\"color: #f8f8f2; text-decoration-color: #f8f8f2; background-color: #272822\"> threshold:</span><span style=\"background-color: #272822\">                                                                                      </span>\n",
       "<span style=\"background-color: #272822\"> </span><span style=\"color: #f8f8f2; text-decoration-color: #f8f8f2; background-color: #272822\">    run</span><span style=\"color: #ff4689; text-decoration-color: #ff4689; background-color: #272822\">.</span><span style=\"color: #f8f8f2; text-decoration-color: #f8f8f2; background-color: #272822\">tags </span><span style=\"color: #ff4689; text-decoration-color: #ff4689; background-color: #272822\">=</span><span style=\"color: #f8f8f2; text-decoration-color: #f8f8f2; background-color: #272822\"> run</span><span style=\"color: #ff4689; text-decoration-color: #ff4689; background-color: #272822\">.</span><span style=\"color: #f8f8f2; text-decoration-color: #f8f8f2; background-color: #272822\">tags </span><span style=\"color: #ff4689; text-decoration-color: #ff4689; background-color: #272822\">+</span><span style=\"color: #f8f8f2; text-decoration-color: #f8f8f2; background-color: #272822\"> (</span><span style=\"color: #e6db74; text-decoration-color: #e6db74; background-color: #272822\">\"release_candidate\"</span><span style=\"color: #f8f8f2; text-decoration-color: #f8f8f2; background-color: #272822\">,)</span><span style=\"background-color: #272822\">                                                                  </span>\n",
       "<span style=\"background-color: #272822\">                                                                                                                   \n",
       "</span>\n",
       "There are also several ways to add tags after runs have been logged to Weights &amp; Biases.                           \n",
       "\n",
       "\n",
       "&lt;Tabs defaultValue=\"publicapi\" values={[ {label: 'Using the Public API', value: 'publicapi'}, {label: 'Project     \n",
       "Page', value: 'projectpage'}, {label: 'Run Page', value: 'runpage'}, ]}&gt;                                           \n",
       "\n",
       "After a run is created, you can update tags using <a href=\"../../../guides/track/public-api-guide.md\" target=\"_blank\"><span style=\"color: #000080; text-decoration-color: #000080; text-decoration: underline\">our public API</span></a> like so:                                          \n",
       "\n",
       "<span style=\"background-color: #272822\">                                                                                                                   \n",
       " </span><span style=\"color: #f8f8f2; text-decoration-color: #f8f8f2; background-color: #272822\">run </span><span style=\"color: #ff4689; text-decoration-color: #ff4689; background-color: #272822\">=</span><span style=\"color: #f8f8f2; text-decoration-color: #f8f8f2; background-color: #272822\"> wandb</span><span style=\"color: #ff4689; text-decoration-color: #ff4689; background-color: #272822\">.</span><span style=\"color: #f8f8f2; text-decoration-color: #f8f8f2; background-color: #272822\">Api()</span><span style=\"color: #ff4689; text-decoration-color: #ff4689; background-color: #272822\">.</span><span style=\"color: #f8f8f2; text-decoration-color: #f8f8f2; background-color: #272822\">run(</span><span style=\"color: #e6db74; text-decoration-color: #e6db74; background-color: #272822\">\"{entity}/{project}/{run-id}\"</span><span style=\"color: #f8f8f2; text-decoration-color: #f8f8f2; background-color: #272822\">})</span><span style=\"background-color: #272822\">                                                             </span>\n",
       "<span style=\"background-color: #272822\"> </span><span style=\"color: #f8f8f2; text-decoration-color: #f8f8f2; background-color: #272822\">run</span><span style=\"color: #ff4689; text-decoration-color: #ff4689; background-color: #272822\">.</span><span style=\"color: #f8f8f2; text-decoration-color: #f8f8f2; background-color: #272822\">tags</span><span style=\"color: #ff4689; text-decoration-color: #ff4689; background-color: #272822\">.</span><span style=\"color: #f8f8f2; text-decoration-color: #f8f8f2; background-color: #272822\">append(</span><span style=\"color: #e6db74; text-decoration-color: #e6db74; background-color: #272822\">\"tag1\"</span><span style=\"color: #f8f8f2; text-decoration-color: #f8f8f2; background-color: #272822\">)  </span><span style=\"color: #959077; text-decoration-color: #959077; background-color: #272822\"># you can choose tags based on run data here</span><span style=\"background-color: #272822\">                                             </span>\n",
       "<span style=\"background-color: #272822\"> </span><span style=\"color: #f8f8f2; text-decoration-color: #f8f8f2; background-color: #272822\">run</span><span style=\"color: #ff4689; text-decoration-color: #ff4689; background-color: #272822\">.</span><span style=\"color: #f8f8f2; text-decoration-color: #f8f8f2; background-color: #272822\">update()</span><span style=\"background-color: #272822\">                                                                                                      </span>\n",
       "<span style=\"background-color: #272822\">                                                                                                                   \n",
       "</span>\n",
       "You can read more about how to use the Public API in the <a href=\"../../../ref/README.md\" target=\"_blank\"><span style=\"color: #000080; text-decoration-color: #000080; text-decoration: underline\">reference documentation</span></a> or <a href=\"../../../guides/track/public-api-guide.md\" target=\"_blank\"><span style=\"color: #000080; text-decoration-color: #000080; text-decoration: underline\">guide</span></a>.                         \n",
       "\n",
       "\n",
       "This method is best suited to tagging large numbers of runs with the same tag or tags.                             \n",
       "\n",
       "In the <a href=\"../pages/project-page.md#search-for-runs\" target=\"_blank\"><span style=\"color: #000080; text-decoration-color: #000080; text-decoration: underline\">runs sidebar</span></a> of the <a href=\"../pages/project-page.md\" target=\"_blank\"><span style=\"color: #000080; text-decoration-color: #000080; text-decoration: underline\">Project Page</span></a>,  click the table icon in the upper-right.  This will expand the sidebar   \n",
       "into the full <a href=\"runs-table.md\" target=\"_blank\"><span style=\"color: #000080; text-decoration-color: #000080; text-decoration: underline\">runs table</span></a>.                                                                                          \n",
       "\n",
       "Hover over a run in the table to see a checkbox on the left or look in the header row for a checkbox that will     \n",
       "allow you to select all runs.                                                                                      \n",
       "\n",
       "Click the checkbox to enable bulk actions. Select the runs to which you'd like to apply your tag( Let's            \n",
       "start![/INST]                                                                                                      \n",
       "</pre>\n"
      ],
      "text/plain": [
       "Generate a support question from a W&B user. Start your answere with 'Question:'. Don't answer the generated       \n",
       "question. The question should be answerable by provided fragment of W&B documentation. Don't mention the W&B       \n",
       "documentation in your answer. Below you will find a fragment of W&B documentation: (tags=[\"tag1\", \"tag2\"])` .      \n",
       "\n",
       "You can also update the tags of a run during training (e.g. if a particular metrics crosses a pre-defined          \n",
       "threshold):                                                                                                        \n",
       "\n",
       "\u001b[48;2;39;40;34m                                                                                                                   \n",
       "\u001b[0m\u001b[48;2;39;40;34m \u001b[0m\u001b[38;2;248;248;242;48;2;39;40;34mrun\u001b[0m\u001b[38;2;248;248;242;48;2;39;40;34m \u001b[0m\u001b[38;2;255;70;137;48;2;39;40;34m=\u001b[0m\u001b[38;2;248;248;242;48;2;39;40;34m \u001b[0m\u001b[38;2;248;248;242;48;2;39;40;34mwandb\u001b[0m\u001b[38;2;255;70;137;48;2;39;40;34m.\u001b[0m\u001b[38;2;248;248;242;48;2;39;40;34minit\u001b[0m\u001b[38;2;248;248;242;48;2;39;40;34m(\u001b[0m\u001b[38;2;248;248;242;48;2;39;40;34mentity\u001b[0m\u001b[38;2;255;70;137;48;2;39;40;34m=\u001b[0m\u001b[38;2;230;219;116;48;2;39;40;34m\"\u001b[0m\u001b[38;2;230;219;116;48;2;39;40;34mentity\u001b[0m\u001b[38;2;230;219;116;48;2;39;40;34m\"\u001b[0m\u001b[38;2;248;248;242;48;2;39;40;34m,\u001b[0m\u001b[38;2;248;248;242;48;2;39;40;34m \u001b[0m\u001b[38;2;248;248;242;48;2;39;40;34mproject\u001b[0m\u001b[38;2;255;70;137;48;2;39;40;34m=\u001b[0m\u001b[38;2;230;219;116;48;2;39;40;34m\"\u001b[0m\u001b[38;2;230;219;116;48;2;39;40;34mcapsules\u001b[0m\u001b[38;2;230;219;116;48;2;39;40;34m\"\u001b[0m\u001b[38;2;248;248;242;48;2;39;40;34m,\u001b[0m\u001b[38;2;248;248;242;48;2;39;40;34m \u001b[0m\u001b[38;2;248;248;242;48;2;39;40;34mtags\u001b[0m\u001b[38;2;255;70;137;48;2;39;40;34m=\u001b[0m\u001b[38;2;248;248;242;48;2;39;40;34m[\u001b[0m\u001b[38;2;230;219;116;48;2;39;40;34m\"\u001b[0m\u001b[38;2;230;219;116;48;2;39;40;34mdebug\u001b[0m\u001b[38;2;230;219;116;48;2;39;40;34m\"\u001b[0m\u001b[38;2;248;248;242;48;2;39;40;34m]\u001b[0m\u001b[38;2;248;248;242;48;2;39;40;34m)\u001b[0m\u001b[48;2;39;40;34m                                            \u001b[0m\u001b[48;2;39;40;34m \u001b[0m\n",
       "\u001b[48;2;39;40;34m \u001b[0m\u001b[48;2;39;40;34m                                                                                                                 \u001b[0m\u001b[48;2;39;40;34m \u001b[0m\n",
       "\u001b[48;2;39;40;34m \u001b[0m\u001b[38;2;255;70;137;48;2;39;40;34m.\u001b[0m\u001b[38;2;255;70;137;48;2;39;40;34m.\u001b[0m\u001b[38;2;255;70;137;48;2;39;40;34m.\u001b[0m\u001b[48;2;39;40;34m                                                                                                              \u001b[0m\u001b[48;2;39;40;34m \u001b[0m\n",
       "\u001b[48;2;39;40;34m \u001b[0m\u001b[48;2;39;40;34m                                                                                                                 \u001b[0m\u001b[48;2;39;40;34m \u001b[0m\n",
       "\u001b[48;2;39;40;34m \u001b[0m\u001b[38;2;102;217;239;48;2;39;40;34mif\u001b[0m\u001b[38;2;248;248;242;48;2;39;40;34m \u001b[0m\u001b[38;2;248;248;242;48;2;39;40;34mcurrent_loss\u001b[0m\u001b[38;2;248;248;242;48;2;39;40;34m \u001b[0m\u001b[38;2;255;70;137;48;2;39;40;34m<\u001b[0m\u001b[38;2;248;248;242;48;2;39;40;34m \u001b[0m\u001b[38;2;248;248;242;48;2;39;40;34mthreshold\u001b[0m\u001b[38;2;248;248;242;48;2;39;40;34m:\u001b[0m\u001b[48;2;39;40;34m                                                                                     \u001b[0m\u001b[48;2;39;40;34m \u001b[0m\n",
       "\u001b[48;2;39;40;34m \u001b[0m\u001b[38;2;248;248;242;48;2;39;40;34m    \u001b[0m\u001b[38;2;248;248;242;48;2;39;40;34mrun\u001b[0m\u001b[38;2;255;70;137;48;2;39;40;34m.\u001b[0m\u001b[38;2;248;248;242;48;2;39;40;34mtags\u001b[0m\u001b[38;2;248;248;242;48;2;39;40;34m \u001b[0m\u001b[38;2;255;70;137;48;2;39;40;34m=\u001b[0m\u001b[38;2;248;248;242;48;2;39;40;34m \u001b[0m\u001b[38;2;248;248;242;48;2;39;40;34mrun\u001b[0m\u001b[38;2;255;70;137;48;2;39;40;34m.\u001b[0m\u001b[38;2;248;248;242;48;2;39;40;34mtags\u001b[0m\u001b[38;2;248;248;242;48;2;39;40;34m \u001b[0m\u001b[38;2;255;70;137;48;2;39;40;34m+\u001b[0m\u001b[38;2;248;248;242;48;2;39;40;34m \u001b[0m\u001b[38;2;248;248;242;48;2;39;40;34m(\u001b[0m\u001b[38;2;230;219;116;48;2;39;40;34m\"\u001b[0m\u001b[38;2;230;219;116;48;2;39;40;34mrelease_candidate\u001b[0m\u001b[38;2;230;219;116;48;2;39;40;34m\"\u001b[0m\u001b[38;2;248;248;242;48;2;39;40;34m,\u001b[0m\u001b[38;2;248;248;242;48;2;39;40;34m)\u001b[0m\u001b[48;2;39;40;34m                                                                 \u001b[0m\u001b[48;2;39;40;34m \u001b[0m\n",
       "\u001b[48;2;39;40;34m                                                                                                                   \n",
       "\u001b[0m\n",
       "There are also several ways to add tags after runs have been logged to Weights & Biases.                           \n",
       "\n",
       "\n",
       "<Tabs defaultValue=\"publicapi\" values={[ {label: 'Using the Public API', value: 'publicapi'}, {label: 'Project     \n",
       "Page', value: 'projectpage'}, {label: 'Run Page', value: 'runpage'}, ]}>                                           \n",
       "\n",
       "After a run is created, you can update tags using \u001b]8;id=637893;../../../guides/track/public-api-guide.md\u001b\\\u001b[4;34mour public API\u001b[0m\u001b]8;;\u001b\\ like so:                                          \n",
       "\n",
       "\u001b[48;2;39;40;34m                                                                                                                   \n",
       "\u001b[0m\u001b[48;2;39;40;34m \u001b[0m\u001b[38;2;248;248;242;48;2;39;40;34mrun\u001b[0m\u001b[38;2;248;248;242;48;2;39;40;34m \u001b[0m\u001b[38;2;255;70;137;48;2;39;40;34m=\u001b[0m\u001b[38;2;248;248;242;48;2;39;40;34m \u001b[0m\u001b[38;2;248;248;242;48;2;39;40;34mwandb\u001b[0m\u001b[38;2;255;70;137;48;2;39;40;34m.\u001b[0m\u001b[38;2;248;248;242;48;2;39;40;34mApi\u001b[0m\u001b[38;2;248;248;242;48;2;39;40;34m(\u001b[0m\u001b[38;2;248;248;242;48;2;39;40;34m)\u001b[0m\u001b[38;2;255;70;137;48;2;39;40;34m.\u001b[0m\u001b[38;2;248;248;242;48;2;39;40;34mrun\u001b[0m\u001b[38;2;248;248;242;48;2;39;40;34m(\u001b[0m\u001b[38;2;230;219;116;48;2;39;40;34m\"\u001b[0m\u001b[38;2;230;219;116;48;2;39;40;34m{entity}\u001b[0m\u001b[38;2;230;219;116;48;2;39;40;34m/\u001b[0m\u001b[38;2;230;219;116;48;2;39;40;34m{project}\u001b[0m\u001b[38;2;230;219;116;48;2;39;40;34m/\u001b[0m\u001b[38;2;230;219;116;48;2;39;40;34m{\u001b[0m\u001b[38;2;230;219;116;48;2;39;40;34mrun-id}\u001b[0m\u001b[38;2;230;219;116;48;2;39;40;34m\"\u001b[0m\u001b[38;2;248;248;242;48;2;39;40;34m}\u001b[0m\u001b[38;2;248;248;242;48;2;39;40;34m)\u001b[0m\u001b[48;2;39;40;34m                                                            \u001b[0m\u001b[48;2;39;40;34m \u001b[0m\n",
       "\u001b[48;2;39;40;34m \u001b[0m\u001b[38;2;248;248;242;48;2;39;40;34mrun\u001b[0m\u001b[38;2;255;70;137;48;2;39;40;34m.\u001b[0m\u001b[38;2;248;248;242;48;2;39;40;34mtags\u001b[0m\u001b[38;2;255;70;137;48;2;39;40;34m.\u001b[0m\u001b[38;2;248;248;242;48;2;39;40;34mappend\u001b[0m\u001b[38;2;248;248;242;48;2;39;40;34m(\u001b[0m\u001b[38;2;230;219;116;48;2;39;40;34m\"\u001b[0m\u001b[38;2;230;219;116;48;2;39;40;34mtag1\u001b[0m\u001b[38;2;230;219;116;48;2;39;40;34m\"\u001b[0m\u001b[38;2;248;248;242;48;2;39;40;34m)\u001b[0m\u001b[38;2;248;248;242;48;2;39;40;34m  \u001b[0m\u001b[38;2;149;144;119;48;2;39;40;34m# you can choose tags based on run data here\u001b[0m\u001b[48;2;39;40;34m                                            \u001b[0m\u001b[48;2;39;40;34m \u001b[0m\n",
       "\u001b[48;2;39;40;34m \u001b[0m\u001b[38;2;248;248;242;48;2;39;40;34mrun\u001b[0m\u001b[38;2;255;70;137;48;2;39;40;34m.\u001b[0m\u001b[38;2;248;248;242;48;2;39;40;34mupdate\u001b[0m\u001b[38;2;248;248;242;48;2;39;40;34m(\u001b[0m\u001b[38;2;248;248;242;48;2;39;40;34m)\u001b[0m\u001b[48;2;39;40;34m                                                                                                     \u001b[0m\u001b[48;2;39;40;34m \u001b[0m\n",
       "\u001b[48;2;39;40;34m                                                                                                                   \n",
       "\u001b[0m\n",
       "You can read more about how to use the Public API in the \u001b]8;id=904378;../../../ref/README.md\u001b\\\u001b[4;34mreference documentation\u001b[0m\u001b]8;;\u001b\\ or \u001b]8;id=418636;../../../guides/track/public-api-guide.md\u001b\\\u001b[4;34mguide\u001b[0m\u001b]8;;\u001b\\.                         \n",
       "\n",
       "\n",
       "This method is best suited to tagging large numbers of runs with the same tag or tags.                             \n",
       "\n",
       "In the \u001b]8;id=126999;../pages/project-page.md#search-for-runs\u001b\\\u001b[4;34mruns sidebar\u001b[0m\u001b]8;;\u001b\\ of the \u001b]8;id=154928;../pages/project-page.md\u001b\\\u001b[4;34mProject Page\u001b[0m\u001b]8;;\u001b\\,  click the table icon in the upper-right.  This will expand the sidebar   \n",
       "into the full \u001b]8;id=944720;runs-table.md\u001b\\\u001b[4;34mruns table\u001b[0m\u001b]8;;\u001b\\.                                                                                          \n",
       "\n",
       "Hover over a run in the table to see a checkbox on the left or look in the header row for a checkbox that will     \n",
       "allow you to select all runs.                                                                                      \n",
       "\n",
       "Click the checkbox to enable bulk actions. Select the runs to which you'd like to apply your tag( Let's            \n",
       "start![/INST]                                                                                                      \n"
      ]
     },
     "execution_count": 50,
     "metadata": {},
     "output_type": "execute_result"
    }
   ],
   "source": [
    "Markdown(generation_prompt)"
   ]
  },
  {
   "cell_type": "markdown",
   "metadata": {},
   "source": [
    "Let's generate 3 possible questions:"
   ]
  },
  {
   "cell_type": "code",
   "execution_count": 34,
   "metadata": {},
   "outputs": [
    {
     "data": {
      "text/html": [
       "<pre style=\"white-space:pre;overflow-x:auto;line-height:normal;font-family:Menlo,'DejaVu Sans Mono',consolas,'Courier New',monospace\">Question: How can I remove a tag from multiple runs at once? According to the provided fragment of W&amp;B             \n",
       "documentation, there are two ways to remove a tag from multiple runs:                                              \n",
       "\n",
       "<span style=\"color: #808000; text-decoration-color: #808000; font-weight: bold\"> 1 </span>Using the Project Page: In                                                                                      \n",
       "</pre>\n"
      ],
      "text/plain": [
       "Question: How can I remove a tag from multiple runs at once? According to the provided fragment of W&B             \n",
       "documentation, there are two ways to remove a tag from multiple runs:                                              \n",
       "\n",
       "\u001b[1;33m 1 \u001b[0mUsing the Project Page: In                                                                                      \n"
      ]
     },
     "metadata": {},
     "output_type": "display_data"
    },
    {
     "data": {
      "text/html": [
       "<pre style=\"white-space:pre;overflow-x:auto;line-height:normal;font-family:Menlo,'DejaVu Sans Mono',consolas,'Courier New',monospace\">Question: How do I tag multiple runs with the same tag using the W&amp;B Public API? According to the provided fragment\n",
       "of W&amp;B documentation, it seems that you can use the <span style=\"color: #008080; text-decoration-color: #008080; background-color: #000000; font-weight: bold\">runs.update()</span> method to tag                                    \n",
       "</pre>\n"
      ],
      "text/plain": [
       "Question: How do I tag multiple runs with the same tag using the W&B Public API? According to the provided fragment\n",
       "of W&B documentation, it seems that you can use the \u001b[1;36;40mruns.update()\u001b[0m method to tag                                    \n"
      ]
     },
     "metadata": {},
     "output_type": "display_data"
    },
    {
     "data": {
      "text/html": [
       "<pre style=\"white-space:pre;overflow-x:auto;line-height:normal;font-family:Menlo,'DejaVu Sans Mono',consolas,'Courier New',monospace\">Great! Here is a support question from a W&amp;B user: Question: I have several runs that I want to tag with a specific\n",
       "label. How can I do this in Weights &amp; Biases?                                                                      \n",
       "\n",
       "As the W&amp;                                                                                                          \n",
       "</pre>\n"
      ],
      "text/plain": [
       "Great! Here is a support question from a W&B user: Question: I have several runs that I want to tag with a specific\n",
       "label. How can I do this in Weights & Biases?                                                                      \n",
       "\n",
       "As the W&                                                                                                          \n"
      ]
     },
     "metadata": {},
     "output_type": "display_data"
    }
   ],
   "source": [
    "generate_and_print(system_prompt, generation_prompt, n=3)"
   ]
  },
  {
   "cell_type": "markdown",
   "metadata": {},
   "source": [
    "Some output questions above seem synthetic (not that related to wandb, but more about some specific coding concept). There are further prompt engineering steps to improve this."
   ]
  },
  {
   "cell_type": "markdown",
   "metadata": {},
   "source": [
    "## Level 5 prompt structure\n",
    "\n",
    "This prompt structure has a complex directive that includes:\n",
    "* Description of high-level goal \n",
    "* And few short examples\n",
    "* Detailed bulleted list of sub-tasks \n",
    "* An explicit statement asking the LLM to explain its output\n",
    "* Guidelines on how LLM output will be evaluated\n"
   ]
  },
  {
   "cell_type": "markdown",
   "metadata": {},
   "source": [
    "### System and user templates\n",
    "\n",
    "Here we attempt to create a prompt that follows these Level 5 directions. We split the prompt split into:\n",
    "* **System template** (system message) - instructing model to get into a specific role\n",
    "* **User template** (input from the user)"
   ]
  },
  {
   "cell_type": "code",
   "execution_count": 10,
   "metadata": {},
   "outputs": [],
   "source": [
    "# read system_template.txt file into an f-string\n",
    "with open(\"../data/system_template.txt\", \"r\") as file:\n",
    "    system_prompt = file.read()\n",
    "\n",
    "# Follow llama2 prompt format\n",
    "system_prompt = f\"<s>{B_INST}{B_SYS}{system_prompt}{E_SYS}\""
   ]
  },
  {
   "cell_type": "code",
   "execution_count": 11,
   "metadata": {},
   "outputs": [
    {
     "name": "stdout",
     "output_type": "stream",
     "text": [
      "('<s>[INST] <<SYS>>\\n'\n",
      " 'You are a creative assistant with the goal to generate a synthetic dataset '\n",
      " 'of Weights & Biases (W&B) user questions.\\n'\n",
      " \"W&B users are asking these questions to a bot, so they don't know the answer \"\n",
      " \"and their questions are grounded in what they're trying to achieve. \\n\"\n",
      " 'We are interested in questions that can be answered by W&B documentation. \\n'\n",
      " \"But the users don't have access to this documentation, so you need to \"\n",
      " \"imagine what they're trying to do and use according language.\\n\"\n",
      " '<</SYS>>\\n'\n",
      " '\\n')\n"
     ]
    }
   ],
   "source": [
    "pprint(system_prompt)"
   ]
  },
  {
   "cell_type": "code",
   "execution_count": 12,
   "metadata": {},
   "outputs": [],
   "source": [
    "# read prompt_template.txt file into an f-string\n",
    "with open(\"../data/prompt_template.txt\", \"r\") as file:\n",
    "    prompt_template = file.read()\n",
    "\n",
    "# Follow llama2 prompt format\n",
    "prompt_template = f\"{prompt_template}{E_INST}\""
   ]
  },
  {
   "cell_type": "code",
   "execution_count": 13,
   "metadata": {},
   "outputs": [
    {
     "data": {
      "text/html": [
       "<pre style=\"white-space:pre;overflow-x:auto;line-height:normal;font-family:Menlo,'DejaVu Sans Mono',consolas,'Courier New',monospace\">Here are some examples of real user questions, you will be judged by how well you match this distribution.         \n",
       "\n",
       "<span style=\"color: #808000; text-decoration-color: #808000\">───────────────────────────────────────────────────────────────────────────────────────────────────────────────────</span>\n",
       "{QUESTIONS}                                                                                                        \n",
       "\n",
       "<span style=\"color: #808000; text-decoration-color: #808000\">───────────────────────────────────────────────────────────────────────────────────────────────────────────────────</span>\n",
       "In the next step, you will read a fragment of W&amp;B documentation. This will serve as inspiration for synthetic user \n",
       "question and the source of the answer. Here is the document fragment:                                              \n",
       "\n",
       "<span style=\"color: #808000; text-decoration-color: #808000\">───────────────────────────────────────────────────────────────────────────────────────────────────────────────────</span>\n",
       "{CHUNK}                                                                                                            \n",
       "\n",
       "<span style=\"color: #808000; text-decoration-color: #808000\">───────────────────────────────────────────────────────────────────────────────────────────────────────────────────</span>\n",
       "You will now generate a user question and corresponding answer based on the above document. First, explain the user\n",
       "context and what problems they might be trying to solve. Second, generate user question. Third, provide the        \n",
       "accurate and concise answer in markdown format to the user question using the documentation. You'll be evaluated   \n",
       "on:                                                                                                                \n",
       "\n",
       "<span style=\"color: #808000; text-decoration-color: #808000; font-weight: bold\"> • </span>how realistic is that this question will come from a real user one day?                                         \n",
       "<span style=\"color: #808000; text-decoration-color: #808000; font-weight: bold\"> • </span>is this question about W&amp;B?                                                                                     \n",
       "<span style=\"color: #808000; text-decoration-color: #808000; font-weight: bold\"> • </span>can the question be answered using the W&amp;B document fragment above?                                             \n",
       "<span style=\"color: #808000; text-decoration-color: #808000; font-weight: bold\"> • </span>how accurate is the answer? Remember that users have different styles and can be imprecise. You are very good at\n",
       "<span style=\"color: #808000; text-decoration-color: #808000; font-weight: bold\">   </span>impersonating them! Use the following format: CONTEXT: QUESTION: ANSWER: Let's start![/INST]                    \n",
       "</pre>\n"
      ],
      "text/plain": [
       "Here are some examples of real user questions, you will be judged by how well you match this distribution.         \n",
       "\n",
       "\u001b[33m───────────────────────────────────────────────────────────────────────────────────────────────────────────────────\u001b[0m\n",
       "{QUESTIONS}                                                                                                        \n",
       "\n",
       "\u001b[33m───────────────────────────────────────────────────────────────────────────────────────────────────────────────────\u001b[0m\n",
       "In the next step, you will read a fragment of W&B documentation. This will serve as inspiration for synthetic user \n",
       "question and the source of the answer. Here is the document fragment:                                              \n",
       "\n",
       "\u001b[33m───────────────────────────────────────────────────────────────────────────────────────────────────────────────────\u001b[0m\n",
       "{CHUNK}                                                                                                            \n",
       "\n",
       "\u001b[33m───────────────────────────────────────────────────────────────────────────────────────────────────────────────────\u001b[0m\n",
       "You will now generate a user question and corresponding answer based on the above document. First, explain the user\n",
       "context and what problems they might be trying to solve. Second, generate user question. Third, provide the        \n",
       "accurate and concise answer in markdown format to the user question using the documentation. You'll be evaluated   \n",
       "on:                                                                                                                \n",
       "\n",
       "\u001b[1;33m • \u001b[0mhow realistic is that this question will come from a real user one day?                                         \n",
       "\u001b[1;33m • \u001b[0mis this question about W&B?                                                                                     \n",
       "\u001b[1;33m • \u001b[0mcan the question be answered using the W&B document fragment above?                                             \n",
       "\u001b[1;33m • \u001b[0mhow accurate is the answer? Remember that users have different styles and can be imprecise. You are very good at\n",
       "\u001b[1;33m   \u001b[0mimpersonating them! Use the following format: CONTEXT: QUESTION: ANSWER: Let's start![/INST]                    \n"
      ]
     },
     "execution_count": 13,
     "metadata": {},
     "output_type": "execute_result"
    }
   ],
   "source": [
    "Markdown(prompt_template)"
   ]
  },
  {
   "cell_type": "markdown",
   "metadata": {},
   "source": [
    "In the above prompt, we tell the model:\n",
    "* We say that we provide examples of real user question (this is the **few shot** part of the prompt)\n",
    "* {Need to provide examples}  \n",
    "* We provide fragment of W&B docs for inspiration for synthetic questions and source of answer\n",
    "* {Need to provide docs}\n",
    "* Provide further info to the model to guide the model answer"
   ]
  },
  {
   "cell_type": "markdown",
   "metadata": {},
   "source": [
    "Now, below, we fill above template prompt by using\n",
    "* Example questions from **[examples.txt](../data/examples.txt)**\n",
    "* Example documentation from **[docs_sample](../docs_sample/)**"
   ]
  },
  {
   "cell_type": "code",
   "execution_count": 22,
   "metadata": {},
   "outputs": [],
   "source": [
    "def generate_context_prompt(chunk, n_questions=3):\n",
    "    # Randombly sample n questions from list real_queries\n",
    "    questions = '\\n'.join(random.sample(real_queries, n_questions))\n",
    "    user_prompt = prompt_template.format(QUESTIONS=questions, CHUNK=chunk)\n",
    "    return user_prompt\n",
    "\n",
    "user_prompt = generate_context_prompt(chunk)"
   ]
  },
  {
   "cell_type": "code",
   "execution_count": 40,
   "metadata": {},
   "outputs": [
    {
     "data": {
      "text/html": [
       "<pre style=\"white-space:pre;overflow-x:auto;line-height:normal;font-family:Menlo,'DejaVu Sans Mono',consolas,'Courier New',monospace\">Here are some examples of real user questions, you will be judged by how well you match this distribution.         \n",
       "\n",
       "<span style=\"color: #808000; text-decoration-color: #808000\">───────────────────────────────────────────────────────────────────────────────────────────────────────────────────</span>\n",
       "are you still with me? wandb.errors.CommError: Sweep user not valid I have a question about sweeps. How can you    \n",
       "constrain relationship between parameters. For example, I now that if num_layers * hidden_dim is large, I'll run   \n",
       "out of GPU memory. So, also I would like to explore some hyperparameter space, there are some combination I know   \n",
       "will fail. optuna as a way to do that: you can throw an special exception to cancel a run during a sweep, so that  \n",
       "it is not recorded. Is there something similar in W&amp;B, or another way of pruning unwanted combination of           \n",
       "hyperparameters?                                                                                                   \n",
       "\n",
       "<span style=\"color: #808000; text-decoration-color: #808000\">───────────────────────────────────────────────────────────────────────────────────────────────────────────────────</span>\n",
       "In the next step, you will read a fragment of W&amp;B documentation. This will serve as inspiration for synthetic user \n",
       "question and the source of the answer. Here is the document fragment:                                              \n",
       "\n",
       "<span style=\"color: #808000; text-decoration-color: #808000\">───────────────────────────────────────────────────────────────────────────────────────────────────────────────────</span>\n",
       "choose tags based on run data here run.update()                                                                    \n",
       "\n",
       "<span style=\"background-color: #272822\">                                                                                                                   \n",
       "                                                                                                                   </span>\n",
       "<span style=\"background-color: #272822\"> You can read more about how to use the Public API in the [reference documentation](../../../ref/README.md) or     </span>\n",
       "<span style=\"background-color: #272822\"> [guide](../../../guides/track/public-api-guide.md).                                                               </span>\n",
       "<span style=\"background-color: #272822\">                                                                                                                   </span>\n",
       "<span style=\"background-color: #272822\">   &lt;/TabItem&gt;                                                                                                      </span>\n",
       "<span style=\"background-color: #272822\">   &lt;TabItem value=\"projectpage\"&gt;                                                                                   </span>\n",
       "<span style=\"background-color: #272822\">                                                                                                                   </span>\n",
       "<span style=\"background-color: #272822\"> This method is best suited to tagging large numbers of runs with the same tag or tags.                            </span>\n",
       "<span style=\"background-color: #272822\">                                                                                                                   </span>\n",
       "<span style=\"background-color: #272822\"> In the [runs sidebar](../pages/project-page.md#search-for-runs) of the [Project Page](../pages/project-page.md),  </span>\n",
       "<span style=\"background-color: #272822\"> click the table icon in the upper-right.  This will expand the sidebar into the full [runs table](runs-table.md). </span>\n",
       "<span style=\"background-color: #272822\">                                                                                                                   </span>\n",
       "<span style=\"background-color: #272822\"> Hover over a run in the table to see a checkbox on the left or look in the header row for a checkbox that will    </span>\n",
       "<span style=\"background-color: #272822\"> allow you to select all runs.                                                                                     </span>\n",
       "<span style=\"background-color: #272822\">                                                                                                                   </span>\n",
       "<span style=\"background-color: #272822\"> Click the checkbox to enable bulk actions. Select the runs to which you'd like to apply your tag(s).              </span>\n",
       "<span style=\"background-color: #272822\">                                                                                                                   </span>\n",
       "<span style=\"background-color: #272822\"> Click the Tag button above the rows of runs.                                                                      </span>\n",
       "<span style=\"background-color: #272822\">                                                                                                                   </span>\n",
       "<span style=\"background-color: #272822\"> Type a tag you'd like to add and click \"Add\" below the text box to add a new tag.                                 </span>\n",
       "<span style=\"background-color: #272822\">                                                                                                                   </span>\n",
       "<span style=\"background-color: #272822\">   &lt;/TabItem&gt;                                                                                                      </span>\n",
       "<span style=\"background-color: #272822\">   &lt;TabItem value=\"runpage\"&gt;                                                                                       </span>\n",
       "<span style=\"background-color: #272822\">                                                                                                                   </span>\n",
       "<span style=\"background-color: #272822\"> This method is best suited to applying a tag or tags to a single run by hand.                                     </span>\n",
       "<span style=\"background-color: #272822\">                                                                                                                   </span>\n",
       "<span style=\"background-color: #272822\"> In the left sidebar of the [Run Page](../pages/run-page.md), click the top [Overview                              </span>\n",
       "<span style=\"background-color: #272822\"> tab](../pages/run-page.md#overview-tab).                                                                          </span>\n",
       "<span style=\"background-color: #272822\">                                                                                                                   </span>\n",
       "<span style=\"background-color: #272822\"> Next to \"Tags\" is a gray ➕ button. Click on that plus to add a tag.                                              </span>\n",
       "<span style=\"background-color: #272822\">                                                                                                                   </span>\n",
       "<span style=\"background-color: #272822\"> Type a tag you'd like to add and click \"Add\" below the text box to add a new tag.                                 </span>\n",
       "<span style=\"background-color: #272822\">                                                                                                                   </span>\n",
       "<span style=\"background-color: #272822\">   &lt;/TabItem&gt;                                                                                                      </span>\n",
       "<span style=\"background-color: #272822\"> &lt;/Tabs&gt;                                                                                                           </span>\n",
       "<span style=\"background-color: #272822\">                                                                                                                   </span>\n",
       "<span style=\"background-color: #272822\">                                                                                                                   </span>\n",
       "<span style=\"background-color: #272822\">                                                                                                                   </span>\n",
       "<span style=\"background-color: #272822\"> ## How to remove tags                                                                                             </span>\n",
       "<span style=\"background-color: #272822\">                                                                                                                   </span>\n",
       "<span style=\"background-color: #272822\"> Tags can also be removed from runs via the UI.                                                                    </span>\n",
       "<span style=\"background-color: #272822\">                                                                                                                   </span>\n",
       "<span style=\"background-color: #272822\"> &lt;Tabs                                                                                                             </span>\n",
       "<span style=\"background-color: #272822\">   defaultValue=\"projectpage\"                                                                                      </span>\n",
       "<span style=\"background-color: #272822\">   values={[                                                                                                       </span>\n",
       "<span style=\"background-color: #272822\">     {label: 'Project Page', value: 'projectpage'},                                                                </span>\n",
       "<span style=\"background-color: #272822\">     {label: 'Run Page', value: 'runpage'},                                                                        </span>\n",
       "<span style=\"background-color: #272822\">   ]}&gt;                                                                                                             </span>\n",
       "<span style=\"background-color: #272822\">   &lt;TabItem value=\"projectpage\"&gt;                                                                                   </span>\n",
       "<span style=\"background-color: #272822\">                                                                                                                   </span>\n",
       "<span style=\"background-color: #272822\"> This method is best suited to removing                                                                            </span>\n",
       "<span style=\"background-color: #272822\"> ***                                                                                                               </span>\n",
       "<span style=\"background-color: #272822\"> You will now generate a user question and corresponding answer based on the above document.                       </span>\n",
       "<span style=\"background-color: #272822\"> First, explain the user context and what problems they might be trying to solve.                                  </span>\n",
       "<span style=\"background-color: #272822\"> Second, generate user question.                                                                                   </span>\n",
       "<span style=\"background-color: #272822\"> Third, provide the accurate and concise answer in markdown format to the user question using the documentation.   </span>\n",
       "<span style=\"background-color: #272822\"> You'll be evaluated on:                                                                                           </span>\n",
       "<span style=\"background-color: #272822\"> - how realistic is that this question will come from a real user one day?                                         </span>\n",
       "<span style=\"background-color: #272822\"> - is this question about W&amp;B?                                                                                     </span>\n",
       "<span style=\"background-color: #272822\"> - can the question be answered using the W&amp;B document fragment above?                                             </span>\n",
       "<span style=\"background-color: #272822\"> - how accurate is the answer?                                                                                     </span>\n",
       "<span style=\"background-color: #272822\"> Remember that users have different styles and can be imprecise. You are very good at impersonating them!          </span>\n",
       "<span style=\"background-color: #272822\"> Use the following format:                                                                                         </span>\n",
       "<span style=\"background-color: #272822\"> CONTEXT:                                                                                                          </span>\n",
       "<span style=\"background-color: #272822\"> QUESTION:                                                                                                         </span>\n",
       "<span style=\"background-color: #272822\"> ANSWER:                                                                                                           </span>\n",
       "<span style=\"background-color: #272822\"> Let's start![/INST]                                                                                               </span>\n",
       "<span style=\"background-color: #272822\">                                                                                                                   \n",
       "</span></pre>\n"
      ],
      "text/plain": [
       "Here are some examples of real user questions, you will be judged by how well you match this distribution.         \n",
       "\n",
       "\u001b[33m───────────────────────────────────────────────────────────────────────────────────────────────────────────────────\u001b[0m\n",
       "are you still with me? wandb.errors.CommError: Sweep user not valid I have a question about sweeps. How can you    \n",
       "constrain relationship between parameters. For example, I now that if num_layers * hidden_dim is large, I'll run   \n",
       "out of GPU memory. So, also I would like to explore some hyperparameter space, there are some combination I know   \n",
       "will fail. optuna as a way to do that: you can throw an special exception to cancel a run during a sweep, so that  \n",
       "it is not recorded. Is there something similar in W&B, or another way of pruning unwanted combination of           \n",
       "hyperparameters?                                                                                                   \n",
       "\n",
       "\u001b[33m───────────────────────────────────────────────────────────────────────────────────────────────────────────────────\u001b[0m\n",
       "In the next step, you will read a fragment of W&B documentation. This will serve as inspiration for synthetic user \n",
       "question and the source of the answer. Here is the document fragment:                                              \n",
       "\n",
       "\u001b[33m───────────────────────────────────────────────────────────────────────────────────────────────────────────────────\u001b[0m\n",
       "choose tags based on run data here run.update()                                                                    \n",
       "\n",
       "\u001b[48;2;39;40;34m                                                                                                                   \n",
       "\u001b[0m\u001b[48;2;39;40;34m \u001b[0m\u001b[48;2;39;40;34m                                                                                                                 \u001b[0m\u001b[48;2;39;40;34m \u001b[0m\n",
       "\u001b[48;2;39;40;34m \u001b[0m\u001b[48;2;39;40;34mYou can read more about how to use the Public API in the [reference documentation](../../../ref/README.md) or    \u001b[0m\u001b[48;2;39;40;34m \u001b[0m\n",
       "\u001b[48;2;39;40;34m \u001b[0m\u001b[48;2;39;40;34m[guide](../../../guides/track/public-api-guide.md).                                                              \u001b[0m\u001b[48;2;39;40;34m \u001b[0m\n",
       "\u001b[48;2;39;40;34m \u001b[0m\u001b[48;2;39;40;34m                                                                                                                 \u001b[0m\u001b[48;2;39;40;34m \u001b[0m\n",
       "\u001b[48;2;39;40;34m \u001b[0m\u001b[48;2;39;40;34m  </TabItem>                                                                                                     \u001b[0m\u001b[48;2;39;40;34m \u001b[0m\n",
       "\u001b[48;2;39;40;34m \u001b[0m\u001b[48;2;39;40;34m  <TabItem value=\"projectpage\">                                                                                  \u001b[0m\u001b[48;2;39;40;34m \u001b[0m\n",
       "\u001b[48;2;39;40;34m \u001b[0m\u001b[48;2;39;40;34m                                                                                                                 \u001b[0m\u001b[48;2;39;40;34m \u001b[0m\n",
       "\u001b[48;2;39;40;34m \u001b[0m\u001b[48;2;39;40;34mThis method is best suited to tagging large numbers of runs with the same tag or tags.                           \u001b[0m\u001b[48;2;39;40;34m \u001b[0m\n",
       "\u001b[48;2;39;40;34m \u001b[0m\u001b[48;2;39;40;34m                                                                                                                 \u001b[0m\u001b[48;2;39;40;34m \u001b[0m\n",
       "\u001b[48;2;39;40;34m \u001b[0m\u001b[48;2;39;40;34mIn the [runs sidebar](../pages/project-page.md#search-for-runs) of the [Project Page](../pages/project-page.md), \u001b[0m\u001b[48;2;39;40;34m \u001b[0m\n",
       "\u001b[48;2;39;40;34m \u001b[0m\u001b[48;2;39;40;34mclick the table icon in the upper-right.  This will expand the sidebar into the full [runs table](runs-table.md).\u001b[0m\u001b[48;2;39;40;34m \u001b[0m\n",
       "\u001b[48;2;39;40;34m \u001b[0m\u001b[48;2;39;40;34m                                                                                                                 \u001b[0m\u001b[48;2;39;40;34m \u001b[0m\n",
       "\u001b[48;2;39;40;34m \u001b[0m\u001b[48;2;39;40;34mHover over a run in the table to see a checkbox on the left or look in the header row for a checkbox that will   \u001b[0m\u001b[48;2;39;40;34m \u001b[0m\n",
       "\u001b[48;2;39;40;34m \u001b[0m\u001b[48;2;39;40;34mallow you to select all runs.                                                                                    \u001b[0m\u001b[48;2;39;40;34m \u001b[0m\n",
       "\u001b[48;2;39;40;34m \u001b[0m\u001b[48;2;39;40;34m                                                                                                                 \u001b[0m\u001b[48;2;39;40;34m \u001b[0m\n",
       "\u001b[48;2;39;40;34m \u001b[0m\u001b[48;2;39;40;34mClick the checkbox to enable bulk actions. Select the runs to which you'd like to apply your tag(s).             \u001b[0m\u001b[48;2;39;40;34m \u001b[0m\n",
       "\u001b[48;2;39;40;34m \u001b[0m\u001b[48;2;39;40;34m                                                                                                                 \u001b[0m\u001b[48;2;39;40;34m \u001b[0m\n",
       "\u001b[48;2;39;40;34m \u001b[0m\u001b[48;2;39;40;34mClick the Tag button above the rows of runs.                                                                     \u001b[0m\u001b[48;2;39;40;34m \u001b[0m\n",
       "\u001b[48;2;39;40;34m \u001b[0m\u001b[48;2;39;40;34m                                                                                                                 \u001b[0m\u001b[48;2;39;40;34m \u001b[0m\n",
       "\u001b[48;2;39;40;34m \u001b[0m\u001b[48;2;39;40;34mType a tag you'd like to add and click \"Add\" below the text box to add a new tag.                                \u001b[0m\u001b[48;2;39;40;34m \u001b[0m\n",
       "\u001b[48;2;39;40;34m \u001b[0m\u001b[48;2;39;40;34m                                                                                                                 \u001b[0m\u001b[48;2;39;40;34m \u001b[0m\n",
       "\u001b[48;2;39;40;34m \u001b[0m\u001b[48;2;39;40;34m  </TabItem>                                                                                                     \u001b[0m\u001b[48;2;39;40;34m \u001b[0m\n",
       "\u001b[48;2;39;40;34m \u001b[0m\u001b[48;2;39;40;34m  <TabItem value=\"runpage\">                                                                                      \u001b[0m\u001b[48;2;39;40;34m \u001b[0m\n",
       "\u001b[48;2;39;40;34m \u001b[0m\u001b[48;2;39;40;34m                                                                                                                 \u001b[0m\u001b[48;2;39;40;34m \u001b[0m\n",
       "\u001b[48;2;39;40;34m \u001b[0m\u001b[48;2;39;40;34mThis method is best suited to applying a tag or tags to a single run by hand.                                    \u001b[0m\u001b[48;2;39;40;34m \u001b[0m\n",
       "\u001b[48;2;39;40;34m \u001b[0m\u001b[48;2;39;40;34m                                                                                                                 \u001b[0m\u001b[48;2;39;40;34m \u001b[0m\n",
       "\u001b[48;2;39;40;34m \u001b[0m\u001b[48;2;39;40;34mIn the left sidebar of the [Run Page](../pages/run-page.md), click the top [Overview                             \u001b[0m\u001b[48;2;39;40;34m \u001b[0m\n",
       "\u001b[48;2;39;40;34m \u001b[0m\u001b[48;2;39;40;34mtab](../pages/run-page.md#overview-tab).                                                                         \u001b[0m\u001b[48;2;39;40;34m \u001b[0m\n",
       "\u001b[48;2;39;40;34m \u001b[0m\u001b[48;2;39;40;34m                                                                                                                 \u001b[0m\u001b[48;2;39;40;34m \u001b[0m\n",
       "\u001b[48;2;39;40;34m \u001b[0m\u001b[48;2;39;40;34mNext to \"Tags\" is a gray ➕ button. Click on that plus to add a tag.                                             \u001b[0m\u001b[48;2;39;40;34m \u001b[0m\n",
       "\u001b[48;2;39;40;34m \u001b[0m\u001b[48;2;39;40;34m                                                                                                                 \u001b[0m\u001b[48;2;39;40;34m \u001b[0m\n",
       "\u001b[48;2;39;40;34m \u001b[0m\u001b[48;2;39;40;34mType a tag you'd like to add and click \"Add\" below the text box to add a new tag.                                \u001b[0m\u001b[48;2;39;40;34m \u001b[0m\n",
       "\u001b[48;2;39;40;34m \u001b[0m\u001b[48;2;39;40;34m                                                                                                                 \u001b[0m\u001b[48;2;39;40;34m \u001b[0m\n",
       "\u001b[48;2;39;40;34m \u001b[0m\u001b[48;2;39;40;34m  </TabItem>                                                                                                     \u001b[0m\u001b[48;2;39;40;34m \u001b[0m\n",
       "\u001b[48;2;39;40;34m \u001b[0m\u001b[48;2;39;40;34m</Tabs>                                                                                                          \u001b[0m\u001b[48;2;39;40;34m \u001b[0m\n",
       "\u001b[48;2;39;40;34m \u001b[0m\u001b[48;2;39;40;34m                                                                                                                 \u001b[0m\u001b[48;2;39;40;34m \u001b[0m\n",
       "\u001b[48;2;39;40;34m \u001b[0m\u001b[48;2;39;40;34m                                                                                                                 \u001b[0m\u001b[48;2;39;40;34m \u001b[0m\n",
       "\u001b[48;2;39;40;34m \u001b[0m\u001b[48;2;39;40;34m                                                                                                                 \u001b[0m\u001b[48;2;39;40;34m \u001b[0m\n",
       "\u001b[48;2;39;40;34m \u001b[0m\u001b[48;2;39;40;34m## How to remove tags                                                                                            \u001b[0m\u001b[48;2;39;40;34m \u001b[0m\n",
       "\u001b[48;2;39;40;34m \u001b[0m\u001b[48;2;39;40;34m                                                                                                                 \u001b[0m\u001b[48;2;39;40;34m \u001b[0m\n",
       "\u001b[48;2;39;40;34m \u001b[0m\u001b[48;2;39;40;34mTags can also be removed from runs via the UI.                                                                   \u001b[0m\u001b[48;2;39;40;34m \u001b[0m\n",
       "\u001b[48;2;39;40;34m \u001b[0m\u001b[48;2;39;40;34m                                                                                                                 \u001b[0m\u001b[48;2;39;40;34m \u001b[0m\n",
       "\u001b[48;2;39;40;34m \u001b[0m\u001b[48;2;39;40;34m<Tabs                                                                                                            \u001b[0m\u001b[48;2;39;40;34m \u001b[0m\n",
       "\u001b[48;2;39;40;34m \u001b[0m\u001b[48;2;39;40;34m  defaultValue=\"projectpage\"                                                                                     \u001b[0m\u001b[48;2;39;40;34m \u001b[0m\n",
       "\u001b[48;2;39;40;34m \u001b[0m\u001b[48;2;39;40;34m  values={[                                                                                                      \u001b[0m\u001b[48;2;39;40;34m \u001b[0m\n",
       "\u001b[48;2;39;40;34m \u001b[0m\u001b[48;2;39;40;34m    {label: 'Project Page', value: 'projectpage'},                                                               \u001b[0m\u001b[48;2;39;40;34m \u001b[0m\n",
       "\u001b[48;2;39;40;34m \u001b[0m\u001b[48;2;39;40;34m    {label: 'Run Page', value: 'runpage'},                                                                       \u001b[0m\u001b[48;2;39;40;34m \u001b[0m\n",
       "\u001b[48;2;39;40;34m \u001b[0m\u001b[48;2;39;40;34m  ]}>                                                                                                            \u001b[0m\u001b[48;2;39;40;34m \u001b[0m\n",
       "\u001b[48;2;39;40;34m \u001b[0m\u001b[48;2;39;40;34m  <TabItem value=\"projectpage\">                                                                                  \u001b[0m\u001b[48;2;39;40;34m \u001b[0m\n",
       "\u001b[48;2;39;40;34m \u001b[0m\u001b[48;2;39;40;34m                                                                                                                 \u001b[0m\u001b[48;2;39;40;34m \u001b[0m\n",
       "\u001b[48;2;39;40;34m \u001b[0m\u001b[48;2;39;40;34mThis method is best suited to removing                                                                           \u001b[0m\u001b[48;2;39;40;34m \u001b[0m\n",
       "\u001b[48;2;39;40;34m \u001b[0m\u001b[48;2;39;40;34m***                                                                                                              \u001b[0m\u001b[48;2;39;40;34m \u001b[0m\n",
       "\u001b[48;2;39;40;34m \u001b[0m\u001b[48;2;39;40;34mYou will now generate a user question and corresponding answer based on the above document.                      \u001b[0m\u001b[48;2;39;40;34m \u001b[0m\n",
       "\u001b[48;2;39;40;34m \u001b[0m\u001b[48;2;39;40;34mFirst, explain the user context and what problems they might be trying to solve.                                 \u001b[0m\u001b[48;2;39;40;34m \u001b[0m\n",
       "\u001b[48;2;39;40;34m \u001b[0m\u001b[48;2;39;40;34mSecond, generate user question.                                                                                  \u001b[0m\u001b[48;2;39;40;34m \u001b[0m\n",
       "\u001b[48;2;39;40;34m \u001b[0m\u001b[48;2;39;40;34mThird, provide the accurate and concise answer in markdown format to the user question using the documentation.  \u001b[0m\u001b[48;2;39;40;34m \u001b[0m\n",
       "\u001b[48;2;39;40;34m \u001b[0m\u001b[48;2;39;40;34mYou'll be evaluated on:                                                                                          \u001b[0m\u001b[48;2;39;40;34m \u001b[0m\n",
       "\u001b[48;2;39;40;34m \u001b[0m\u001b[48;2;39;40;34m- how realistic is that this question will come from a real user one day?                                        \u001b[0m\u001b[48;2;39;40;34m \u001b[0m\n",
       "\u001b[48;2;39;40;34m \u001b[0m\u001b[48;2;39;40;34m- is this question about W&B?                                                                                    \u001b[0m\u001b[48;2;39;40;34m \u001b[0m\n",
       "\u001b[48;2;39;40;34m \u001b[0m\u001b[48;2;39;40;34m- can the question be answered using the W&B document fragment above?                                            \u001b[0m\u001b[48;2;39;40;34m \u001b[0m\n",
       "\u001b[48;2;39;40;34m \u001b[0m\u001b[48;2;39;40;34m- how accurate is the answer?                                                                                    \u001b[0m\u001b[48;2;39;40;34m \u001b[0m\n",
       "\u001b[48;2;39;40;34m \u001b[0m\u001b[48;2;39;40;34mRemember that users have different styles and can be imprecise. You are very good at impersonating them!         \u001b[0m\u001b[48;2;39;40;34m \u001b[0m\n",
       "\u001b[48;2;39;40;34m \u001b[0m\u001b[48;2;39;40;34mUse the following format:                                                                                        \u001b[0m\u001b[48;2;39;40;34m \u001b[0m\n",
       "\u001b[48;2;39;40;34m \u001b[0m\u001b[48;2;39;40;34mCONTEXT:                                                                                                         \u001b[0m\u001b[48;2;39;40;34m \u001b[0m\n",
       "\u001b[48;2;39;40;34m \u001b[0m\u001b[48;2;39;40;34mQUESTION:                                                                                                        \u001b[0m\u001b[48;2;39;40;34m \u001b[0m\n",
       "\u001b[48;2;39;40;34m \u001b[0m\u001b[48;2;39;40;34mANSWER:                                                                                                          \u001b[0m\u001b[48;2;39;40;34m \u001b[0m\n",
       "\u001b[48;2;39;40;34m \u001b[0m\u001b[48;2;39;40;34mLet's start![/INST]                                                                                              \u001b[0m\u001b[48;2;39;40;34m \u001b[0m\n",
       "\u001b[48;2;39;40;34m                                                                                                                   \n",
       "\u001b[0m"
      ]
     },
     "execution_count": 40,
     "metadata": {},
     "output_type": "execute_result"
    }
   ],
   "source": [
    "Markdown(user_prompt)"
   ]
  },
  {
   "cell_type": "markdown",
   "metadata": {},
   "source": [
    "Now, we request the model to generate answers"
   ]
  },
  {
   "cell_type": "code",
   "execution_count": 23,
   "metadata": {},
   "outputs": [],
   "source": [
    "def generate_questions(documents, n_questions=3, n_generations=5):\n",
    "    questions = []\n",
    "    for _, document in tqdm(documents):\n",
    "        # Extract random chunck from a W&B document\n",
    "        chunk = extract_random_chunk(document)\n",
    "        # Fill in prompt_template with example questions and docs chunck\n",
    "        user_prompt = generate_context_prompt(chunk, n_questions)\n",
    "        # Pass system_prompt and user_prompt to LLM\n",
    "        message = system_prompt + user_prompt\n",
    "        # display(Markdown(message))\n",
    "        # pprint(message)\n",
    "        \n",
    "        # Produce n responses from input prompt\n",
    "        responses = completion_with_backoff(\n",
    "            message,\n",
    "            do_sample=True,           # Whether or not to use sampling \n",
    "            repetition_penalty=1.1,   # without this output begins repeating\n",
    "            num_return_sequences = n_generations,\n",
    "            max_new_tokens=512\n",
    "            )\n",
    "\n",
    "        # Remove asked prompt from responses and append to list\n",
    "        questions.extend([response['generated_text'][response['generated_text'].find('[/INST]')+len('[/INST]'):] for response in responses])\n",
    "    return questions"
   ]
  },
  {
   "cell_type": "code",
   "execution_count": 24,
   "metadata": {},
   "outputs": [],
   "source": [
    "# function to parse model generation and extract CONTEXT, QUESTION and ANSWER\n",
    "def parse_generation(generation):\n",
    "    lines = generation.split(\"\\n\")\n",
    "    context = []\n",
    "    question = []\n",
    "    answer = []\n",
    "    flag = None\n",
    "    \n",
    "    for line in lines:\n",
    "        if \"CONTEXT:\" in line:\n",
    "            flag = \"context\"\n",
    "            line = line.replace(\"CONTEXT:\", \"\").strip()\n",
    "        elif \"QUESTION:\" in line:\n",
    "            flag = \"question\"\n",
    "            line = line.replace(\"QUESTION:\", \"\").strip()\n",
    "        elif \"ANSWER:\" in line:\n",
    "            flag = \"answer\"\n",
    "            line = line.replace(\"ANSWER:\", \"\").strip()\n",
    "\n",
    "        if flag == \"context\":\n",
    "            context.append(line)\n",
    "        elif flag == \"question\":\n",
    "            question.append(line)\n",
    "        elif flag == \"answer\":\n",
    "            answer.append(line)\n",
    "\n",
    "    context = \"\\n\".join(context)\n",
    "    question = \"\\n\".join(question)\n",
    "    answer = \"\\n\".join(answer)\n",
    "    return context, question, answer"
   ]
  },
  {
   "cell_type": "code",
   "execution_count": 43,
   "metadata": {},
   "outputs": [
    {
     "name": "stderr",
     "output_type": "stream",
     "text": [
      "100%|██████████| 1/1 [00:38<00:00, 38.14s/it]\n"
     ]
    }
   ],
   "source": [
    "# Generate questions using LLM\n",
    "generations = generate_questions([documents[0]], n_questions=3, n_generations=5)"
   ]
  },
  {
   "cell_type": "code",
   "execution_count": 44,
   "metadata": {},
   "outputs": [],
   "source": [
    "# Extract CONTEXT, QUESTION and ANSWER from a generation\n",
    "context, question, answer = parse_generation(generations[0])"
   ]
  },
  {
   "cell_type": "code",
   "execution_count": 45,
   "metadata": {},
   "outputs": [
    {
     "data": {
      "text/html": [
       "<pre style=\"white-space:pre;overflow-x:auto;line-height:normal;font-family:Menlo,'DejaVu Sans Mono',consolas,'Courier New',monospace\">CONTEXT: A user is working with Weights &amp; Biases (W&amp;B) and wants to understand how to use the platform more        \n",
       "effectively. They have been experimenting with various features and running simulations, but now want to organize  \n",
       "and manage their runs more efficiently. The user has accessed the W&amp;B documentation but is not sure how to complete\n",
       "certain tasks, such as adding tags to runs or removing tags from multiple runs at once. QUESTION: How can I add    \n",
       "tags to individual runs on the WandB platform?                                                                     \n",
       "\n",
       "ANSWER: Great question! You can add tags to individual runs on the WandB platform by accessing the runs sidebar on \n",
       "the Project Page. From there, you can hover over a run and click the ➕ button next to \"Tags\" to add a new tag.    \n",
       "Alternatively, you can also add tags to a single run by clicking the top \"Overview\" tab on the Run Page. Simply    \n",
       "type the tag name in the text box and click \"Add\" below. To remove tags from multiple runs at once, you can follow \n",
       "the same process as adding tags - hover over a run and click the ➕ button next to \"Tags\" to enable bulk actions,  \n",
       "then select the runs you want to apply the tag to and click the \"Tag\" button above the rows of runs to add the tag.\n",
       "For more detailed instructions, please refer to the WandB documentation under the \"Using Tags\" section.            \n",
       "</pre>\n"
      ],
      "text/plain": [
       "CONTEXT: A user is working with Weights & Biases (W&B) and wants to understand how to use the platform more        \n",
       "effectively. They have been experimenting with various features and running simulations, but now want to organize  \n",
       "and manage their runs more efficiently. The user has accessed the W&B documentation but is not sure how to complete\n",
       "certain tasks, such as adding tags to runs or removing tags from multiple runs at once. QUESTION: How can I add    \n",
       "tags to individual runs on the WandB platform?                                                                     \n",
       "\n",
       "ANSWER: Great question! You can add tags to individual runs on the WandB platform by accessing the runs sidebar on \n",
       "the Project Page. From there, you can hover over a run and click the ➕ button next to \"Tags\" to add a new tag.    \n",
       "Alternatively, you can also add tags to a single run by clicking the top \"Overview\" tab on the Run Page. Simply    \n",
       "type the tag name in the text box and click \"Add\" below. To remove tags from multiple runs at once, you can follow \n",
       "the same process as adding tags - hover over a run and click the ➕ button next to \"Tags\" to enable bulk actions,  \n",
       "then select the runs you want to apply the tag to and click the \"Tag\" button above the rows of runs to add the tag.\n",
       "For more detailed instructions, please refer to the WandB documentation under the \"Using Tags\" section.            \n"
      ]
     },
     "metadata": {},
     "output_type": "display_data"
    },
    {
     "name": "stdout",
     "output_type": "stream",
     "text": [
      "context -----------\n"
     ]
    },
    {
     "data": {
      "text/html": [
       "<pre style=\"white-space:pre;overflow-x:auto;line-height:normal;font-family:Menlo,'DejaVu Sans Mono',consolas,'Courier New',monospace\">A user is working with Weights &amp; Biases (W&amp;B) and wants to understand how to use the platform more effectively.    \n",
       "They have been experimenting with various features and running simulations, but now want to organize and manage    \n",
       "their runs more efficiently. The user has accessed the W&amp;B documentation but is not sure how to complete certain   \n",
       "tasks, such as adding tags to runs or removing tags from multiple runs at once.                                    \n",
       "</pre>\n"
      ],
      "text/plain": [
       "A user is working with Weights & Biases (W&B) and wants to understand how to use the platform more effectively.    \n",
       "They have been experimenting with various features and running simulations, but now want to organize and manage    \n",
       "their runs more efficiently. The user has accessed the W&B documentation but is not sure how to complete certain   \n",
       "tasks, such as adding tags to runs or removing tags from multiple runs at once.                                    \n"
      ]
     },
     "metadata": {},
     "output_type": "display_data"
    },
    {
     "name": "stdout",
     "output_type": "stream",
     "text": [
      "question-----------\n"
     ]
    },
    {
     "data": {
      "text/html": [
       "<pre style=\"white-space:pre;overflow-x:auto;line-height:normal;font-family:Menlo,'DejaVu Sans Mono',consolas,'Courier New',monospace\">How can I add tags to individual runs on the WandB platform?                                                       \n",
       "</pre>\n"
      ],
      "text/plain": [
       "How can I add tags to individual runs on the WandB platform?                                                       \n"
      ]
     },
     "metadata": {},
     "output_type": "display_data"
    },
    {
     "name": "stdout",
     "output_type": "stream",
     "text": [
      "answer-----------\n"
     ]
    },
    {
     "data": {
      "text/html": [
       "<pre style=\"white-space:pre;overflow-x:auto;line-height:normal;font-family:Menlo,'DejaVu Sans Mono',consolas,'Courier New',monospace\">Great question! You can add tags to individual runs on the WandB platform by accessing the runs sidebar on the     \n",
       "Project Page. From there, you can hover over a run and click the ➕ button next to \"Tags\" to add a new tag.        \n",
       "Alternatively, you can also add tags to a single run by clicking the top \"Overview\" tab on the Run Page. Simply    \n",
       "type the tag name in the text box and click \"Add\" below. To remove tags from multiple runs at once, you can follow \n",
       "the same process as adding tags - hover over a run and click the ➕ button next to \"Tags\" to enable bulk actions,  \n",
       "then select the runs you want to apply the tag to and click the \"Tag\" button above the rows of runs to add the tag.\n",
       "For more detailed instructions, please refer to the WandB documentation under the \"Using Tags\" section.            \n",
       "</pre>\n"
      ],
      "text/plain": [
       "Great question! You can add tags to individual runs on the WandB platform by accessing the runs sidebar on the     \n",
       "Project Page. From there, you can hover over a run and click the ➕ button next to \"Tags\" to add a new tag.        \n",
       "Alternatively, you can also add tags to a single run by clicking the top \"Overview\" tab on the Run Page. Simply    \n",
       "type the tag name in the text box and click \"Add\" below. To remove tags from multiple runs at once, you can follow \n",
       "the same process as adding tags - hover over a run and click the ➕ button next to \"Tags\" to enable bulk actions,  \n",
       "then select the runs you want to apply the tag to and click the \"Tag\" button above the rows of runs to add the tag.\n",
       "For more detailed instructions, please refer to the WandB documentation under the \"Using Tags\" section.            \n"
      ]
     },
     "metadata": {},
     "output_type": "display_data"
    }
   ],
   "source": [
    "display(Markdown(generations[0]))\n",
    "print('context -----------')\n",
    "display(Markdown(context))\n",
    "# pprint(context)\n",
    "print('question-----------')\n",
    "display(Markdown(question))\n",
    "# pprint(question)\n",
    "print('answer-----------')\n",
    "display(Markdown(answer))\n",
    "# pprint(answer)\n"
   ]
  },
  {
   "cell_type": "markdown",
   "metadata": {},
   "source": [
    "* Above generated text is split into `Context`, `Question`, `Answer`\n",
    "* Question looks better that with previous approaches"
   ]
  },
  {
   "cell_type": "markdown",
   "metadata": {},
   "source": [
    "Now that we verified that function works, we can run it in a loop to generate questions\n",
    "\n",
    "Below.. cause we want a big dataset of synthetic questions for our model evaluation:\n",
    "* we save LLM generations into a dataframe and a csv, \n",
    "* we log this as a W&B Table and save the csv as a W&B Artifact"
   ]
  },
  {
   "cell_type": "code",
   "execution_count": 25,
   "metadata": {},
   "outputs": [
    {
     "name": "stderr",
     "output_type": "stream",
     "text": [
      " 91%|█████████ | 10/11 [09:31<00:56, 56.92s/it]/home/dolivercortadellas/Training/LLM-powered-apps/venv_llm/lib/python3.8/site-packages/transformers/pipelines/base.py:1083: UserWarning: You seem to be using the pipelines sequentially on GPU. In order to maximize efficiency please use a dataset\n",
      "  warnings.warn(\n",
      "100%|██████████| 11/11 [10:30<00:00, 57.36s/it]\n"
     ]
    },
    {
     "data": {
      "text/plain": [
       "<Artifact generated_examples>"
      ]
     },
     "execution_count": 25,
     "metadata": {},
     "output_type": "execute_result"
    }
   ],
   "source": [
    "parsed_generations = []\n",
    "generations = generate_questions(documents, n_questions=3, n_generations=5)\n",
    "for generation in generations:\n",
    "    context, question, answer = parse_generation(generation)\n",
    "    parsed_generations.append({\"context\": context, \"question\": question, \"answer\": answer})\n",
    "\n",
    "# Convert parsed_generations to a pandas dataframe and save it locally\n",
    "df = pd.DataFrame(parsed_generations)\n",
    "df.to_csv('generated_examples.csv', index=False)\n",
    "\n",
    "# Log df as a table to W&B for interactive exploration\n",
    "wandb.log({\"generated_examples\": wandb.Table(dataframe=df)})\n",
    "\n",
    "# Log csv file as an artifact to W&B for later use\n",
    "artifact = wandb.Artifact(\"generated_examples\", type=\"dataset\")\n",
    "artifact.add_file(\"generated_examples.csv\")\n",
    "wandb.log_artifact(artifact)"
   ]
  },
  {
   "cell_type": "code",
   "execution_count": 26,
   "metadata": {},
   "outputs": [
    {
     "data": {
      "text/html": [
       "Waiting for W&B process to finish... <strong style=\"color:green\">(success).</strong>"
      ],
      "text/plain": [
       "<IPython.core.display.HTML object>"
      ]
     },
     "metadata": {},
     "output_type": "display_data"
    },
    {
     "name": "stderr",
     "output_type": "stream",
     "text": [
      "wandb: WARNING Source type is set to 'repo' but some required information is missing from the environment. A job will not be created from this run. See https://docs.wandb.ai/guides/launch/create-job\n"
     ]
    },
    {
     "data": {
      "text/html": [
       " View run <strong style=\"color:#cdcd00\">chocolate-music-11</strong> at: <a href='https://wandb.ai/doc93/llmapps/runs/0syik39o' target=\"_blank\">https://wandb.ai/doc93/llmapps/runs/0syik39o</a><br/>Synced 5 W&B file(s), 12 media file(s), 13 artifact file(s) and 0 other file(s)"
      ],
      "text/plain": [
       "<IPython.core.display.HTML object>"
      ]
     },
     "metadata": {},
     "output_type": "display_data"
    },
    {
     "data": {
      "text/html": [
       "Find logs at: <code>./wandb/run-20230826_205936-0syik39o/logs</code>"
      ],
      "text/plain": [
       "<IPython.core.display.HTML object>"
      ]
     },
     "metadata": {},
     "output_type": "display_data"
    }
   ],
   "source": [
    "# Finish wandb run\n",
    "wandb.finish()"
   ]
  },
  {
   "cell_type": "code",
   "execution_count": null,
   "metadata": {},
   "outputs": [],
   "source": []
  },
  {
   "cell_type": "code",
   "execution_count": 36,
   "metadata": {},
   "outputs": [
    {
     "data": {
      "text/html": [
       "<div>\n",
       "<style scoped>\n",
       "    .dataframe tbody tr th:only-of-type {\n",
       "        vertical-align: middle;\n",
       "    }\n",
       "\n",
       "    .dataframe tbody tr th {\n",
       "        vertical-align: top;\n",
       "    }\n",
       "\n",
       "    .dataframe thead th {\n",
       "        text-align: right;\n",
       "    }\n",
       "</style>\n",
       "<table border=\"1\" class=\"dataframe\">\n",
       "  <thead>\n",
       "    <tr style=\"text-align: right;\">\n",
       "      <th></th>\n",
       "      <th>context</th>\n",
       "      <th>question</th>\n",
       "      <th>answer</th>\n",
       "    </tr>\n",
       "  </thead>\n",
       "  <tbody>\n",
       "    <tr>\n",
       "      <th>0</th>\n",
       "      <td>\\nThe user is a beginner user of Weights &amp; Bia...</td>\n",
       "      <td>How do I create a new version of my dataset in...</td>\n",
       "      <td>To create a new version of your dataset in Wei...</td>\n",
       "    </tr>\n",
       "    <tr>\n",
       "      <th>1</th>\n",
       "      <td>A Weights &amp; Biases (W&amp;B) user who is relativel...</td>\n",
       "      <td>How do I version my datasets in Weights &amp; Bias...</td>\n",
       "      <td>Great question! Versioning datasets in Weights...</td>\n",
       "    </tr>\n",
       "    <tr>\n",
       "      <th>2</th>\n",
       "      <td>A Weights &amp; Biases (W&amp;B) user is working with ...</td>\n",
       "      <td>\"How do I go about tagging my runs in Weights ...</td>\n",
       "      <td>Sure, W&amp;B provides a powerful tagging system t...</td>\n",
       "    </tr>\n",
       "    <tr>\n",
       "      <th>3</th>\n",
       "      <td>A new W&amp;B user is trying to learn how to use t...</td>\n",
       "      <td>How do I tag multiple runs in Wandb? Is there ...</td>\n",
       "      <td>Great question! In W&amp;B, you can tag multiple r...</td>\n",
       "    </tr>\n",
       "    <tr>\n",
       "      <th>4</th>\n",
       "      <td></td>\n",
       "      <td></td>\n",
       "      <td></td>\n",
       "    </tr>\n",
       "    <tr>\n",
       "      <th>5</th>\n",
       "      <td>A user is trying to improve the quality of the...</td>\n",
       "      <td>How can I use W&amp;B's artifact versioning featur...</td>\n",
       "      <td>Great question! W&amp;B's artifact versioning feat...</td>\n",
       "    </tr>\n",
       "    <tr>\n",
       "      <th>6</th>\n",
       "      <td>The user is a data scientist who is working on...</td>\n",
       "      <td>How can I automatically version my dataset aft...</td>\n",
       "      <td>\"Great question! In W&amp;B, you can automatically...</td>\n",
       "    </tr>\n",
       "    <tr>\n",
       "      <th>7</th>\n",
       "      <td>A user named Sarah is trying to improve the qu...</td>\n",
       "      <td>How can I refine my dataset to address common ...</td>\n",
       "      <td>Great question, Sarah! W&amp;B provides an automat...</td>\n",
       "    </tr>\n",
       "    <tr>\n",
       "      <th>8</th>\n",
       "      <td>\\nA beginner user of Weights &amp; Biases is attem...</td>\n",
       "      <td>\"How do I properly version my datasets and Art...</td>\n",
       "      <td>Great question! Properly versioning your datas...</td>\n",
       "    </tr>\n",
       "    <tr>\n",
       "      <th>9</th>\n",
       "      <td>A user has been using W&amp;B to create a dataset ...</td>\n",
       "      <td>\"Hey there, guys! I'm having some trouble with...</td>\n",
       "      <td>\"Hi there! It sounds like you're experiencing ...</td>\n",
       "    </tr>\n",
       "  </tbody>\n",
       "</table>\n",
       "</div>"
      ],
      "text/plain": [
       "                                             context  \\\n",
       "0  \\nThe user is a beginner user of Weights & Bia...   \n",
       "1  A Weights & Biases (W&B) user who is relativel...   \n",
       "2  A Weights & Biases (W&B) user is working with ...   \n",
       "3  A new W&B user is trying to learn how to use t...   \n",
       "4                                                      \n",
       "5  A user is trying to improve the quality of the...   \n",
       "6  The user is a data scientist who is working on...   \n",
       "7  A user named Sarah is trying to improve the qu...   \n",
       "8  \\nA beginner user of Weights & Biases is attem...   \n",
       "9  A user has been using W&B to create a dataset ...   \n",
       "\n",
       "                                            question  \\\n",
       "0  How do I create a new version of my dataset in...   \n",
       "1  How do I version my datasets in Weights & Bias...   \n",
       "2  \"How do I go about tagging my runs in Weights ...   \n",
       "3  How do I tag multiple runs in Wandb? Is there ...   \n",
       "4                                                      \n",
       "5  How can I use W&B's artifact versioning featur...   \n",
       "6  How can I automatically version my dataset aft...   \n",
       "7  How can I refine my dataset to address common ...   \n",
       "8  \"How do I properly version my datasets and Art...   \n",
       "9  \"Hey there, guys! I'm having some trouble with...   \n",
       "\n",
       "                                              answer  \n",
       "0  To create a new version of your dataset in Wei...  \n",
       "1  Great question! Versioning datasets in Weights...  \n",
       "2  Sure, W&B provides a powerful tagging system t...  \n",
       "3  Great question! In W&B, you can tag multiple r...  \n",
       "4                                                     \n",
       "5  Great question! W&B's artifact versioning feat...  \n",
       "6  \"Great question! In W&B, you can automatically...  \n",
       "7  Great question, Sarah! W&B provides an automat...  \n",
       "8  Great question! Properly versioning your datas...  \n",
       "9  \"Hi there! It sounds like you're experiencing ...  "
      ]
     },
     "execution_count": 36,
     "metadata": {},
     "output_type": "execute_result"
    }
   ],
   "source": [
    "df[:10]"
   ]
  }
 ],
 "metadata": {
  "kernelspec": {
   "display_name": "venv_llm",
   "language": "python",
   "name": "python3"
  },
  "language_info": {
   "codemirror_mode": {
    "name": "ipython",
    "version": 3
   },
   "file_extension": ".py",
   "mimetype": "text/x-python",
   "name": "python",
   "nbconvert_exporter": "python",
   "pygments_lexer": "ipython3",
   "version": "3.8.13"
  },
  "orig_nbformat": 4
 },
 "nbformat": 4,
 "nbformat_minor": 2
}
